{
  "nbformat": 4,
  "nbformat_minor": 0,
  "metadata": {
    "colab": {
      "provenance": [],
      "authorship_tag": "ABX9TyM3Mnrg2sNa78qdgDVwK7yI",
      "include_colab_link": true
    },
    "kernelspec": {
      "name": "python3",
      "display_name": "Python 3"
    },
    "language_info": {
      "name": "python"
    },
    "widgets": {
      "application/vnd.jupyter.widget-state+json": {
        "135efa15c50d4f5cbee4aaf854fdd79e": {
          "model_module": "@jupyter-widgets/controls",
          "model_name": "VBoxModel",
          "model_module_version": "1.5.0",
          "state": {
            "_dom_classes": [],
            "_model_module": "@jupyter-widgets/controls",
            "_model_module_version": "1.5.0",
            "_model_name": "VBoxModel",
            "_view_count": null,
            "_view_module": "@jupyter-widgets/controls",
            "_view_module_version": "1.5.0",
            "_view_name": "VBoxView",
            "box_style": "",
            "children": [
              "IPY_MODEL_db61088d3e37406ebfd1f3d2dc0fcf0b",
              "IPY_MODEL_42d4d6b12ff44c0fb16f77062e774a77",
              "IPY_MODEL_77a63b3977744c0f9b7e87cff4c40c00",
              "IPY_MODEL_27821974b0a1460cbe2f1bd5014fe534"
            ],
            "layout": "IPY_MODEL_20e742d15b244205be7f80894579766a"
          }
        },
        "db61088d3e37406ebfd1f3d2dc0fcf0b": {
          "model_module": "@jupyter-widgets/controls",
          "model_name": "DropdownModel",
          "model_module_version": "1.5.0",
          "state": {
            "_dom_classes": [],
            "_model_module": "@jupyter-widgets/controls",
            "_model_module_version": "1.5.0",
            "_model_name": "DropdownModel",
            "_options_labels": [
              "",
              "Tamer Talhami",
              "Firas Amaria",
              "Muhammed Yassin",
              "Fawzi Abo Zhaya",
              "Mustafa Shama"
            ],
            "_view_count": null,
            "_view_module": "@jupyter-widgets/controls",
            "_view_module_version": "1.5.0",
            "_view_name": "DropdownView",
            "description": "Select Student:",
            "description_tooltip": null,
            "disabled": false,
            "index": 5,
            "layout": "IPY_MODEL_b6a6028002b04a82ac95089ad4df8548",
            "style": "IPY_MODEL_f531918e590c4a1eac8258b0afef2c96"
          }
        },
        "42d4d6b12ff44c0fb16f77062e774a77": {
          "model_module": "@jupyter-widgets/controls",
          "model_name": "TextModel",
          "model_module_version": "1.5.0",
          "state": {
            "_dom_classes": [],
            "_model_module": "@jupyter-widgets/controls",
            "_model_module_version": "1.5.0",
            "_model_name": "TextModel",
            "_view_count": null,
            "_view_module": "@jupyter-widgets/controls",
            "_view_module_version": "1.5.0",
            "_view_name": "TextView",
            "continuous_update": true,
            "description": "Update Program:",
            "description_tooltip": null,
            "disabled": false,
            "layout": "IPY_MODEL_8846834d4f6e4c38943772e66c23b7bd",
            "placeholder": "​",
            "style": "IPY_MODEL_3da46a8142fd4305a9349834e605a0c1",
            "value": "test"
          }
        },
        "77a63b3977744c0f9b7e87cff4c40c00": {
          "model_module": "@jupyter-widgets/controls",
          "model_name": "ButtonModel",
          "model_module_version": "1.5.0",
          "state": {
            "_dom_classes": [],
            "_model_module": "@jupyter-widgets/controls",
            "_model_module_version": "1.5.0",
            "_model_name": "ButtonModel",
            "_view_count": null,
            "_view_module": "@jupyter-widgets/controls",
            "_view_module_version": "1.5.0",
            "_view_name": "ButtonView",
            "button_style": "success",
            "description": "Update",
            "disabled": false,
            "icon": "",
            "layout": "IPY_MODEL_62349af9cfb44f0b9843d85afa2042a9",
            "style": "IPY_MODEL_4c54cf81051b4139a590df56b9b18c6b",
            "tooltip": ""
          }
        },
        "27821974b0a1460cbe2f1bd5014fe534": {
          "model_module": "@jupyter-widgets/controls",
          "model_name": "HTMLModel",
          "model_module_version": "1.5.0",
          "state": {
            "_dom_classes": [],
            "_model_module": "@jupyter-widgets/controls",
            "_model_module_version": "1.5.0",
            "_model_name": "HTMLModel",
            "_view_count": null,
            "_view_module": "@jupyter-widgets/controls",
            "_view_module_version": "1.5.0",
            "_view_name": "HTMLView",
            "description": "",
            "description_tooltip": null,
            "layout": "IPY_MODEL_aabf5baa50c541e0b18e4db0e5dff998",
            "placeholder": "​",
            "style": "IPY_MODEL_e0a54068b59c48cdb4cfe9dbf84f247f",
            "value": "<b>Mustafa Shama</b>: <ul><b>Mustafa.Shama@e.braude.ac.il</b>: <ul><li>WEB</li><li>cloud computing</li><li>physics</li><li>test</li></ul>"
          }
        },
        "20e742d15b244205be7f80894579766a": {
          "model_module": "@jupyter-widgets/base",
          "model_name": "LayoutModel",
          "model_module_version": "1.2.0",
          "state": {
            "_model_module": "@jupyter-widgets/base",
            "_model_module_version": "1.2.0",
            "_model_name": "LayoutModel",
            "_view_count": null,
            "_view_module": "@jupyter-widgets/base",
            "_view_module_version": "1.2.0",
            "_view_name": "LayoutView",
            "align_content": null,
            "align_items": "center",
            "align_self": null,
            "border": null,
            "bottom": null,
            "display": "flex",
            "flex": null,
            "flex_flow": "column",
            "grid_area": null,
            "grid_auto_columns": null,
            "grid_auto_flow": null,
            "grid_auto_rows": null,
            "grid_column": null,
            "grid_gap": null,
            "grid_row": null,
            "grid_template_areas": null,
            "grid_template_columns": null,
            "grid_template_rows": null,
            "height": null,
            "justify_content": null,
            "justify_items": null,
            "left": null,
            "margin": null,
            "max_height": null,
            "max_width": null,
            "min_height": null,
            "min_width": null,
            "object_fit": null,
            "object_position": null,
            "order": null,
            "overflow": null,
            "overflow_x": null,
            "overflow_y": null,
            "padding": null,
            "right": null,
            "top": null,
            "visibility": null,
            "width": null
          }
        },
        "b6a6028002b04a82ac95089ad4df8548": {
          "model_module": "@jupyter-widgets/base",
          "model_name": "LayoutModel",
          "model_module_version": "1.2.0",
          "state": {
            "_model_module": "@jupyter-widgets/base",
            "_model_module_version": "1.2.0",
            "_model_name": "LayoutModel",
            "_view_count": null,
            "_view_module": "@jupyter-widgets/base",
            "_view_module_version": "1.2.0",
            "_view_name": "LayoutView",
            "align_content": null,
            "align_items": null,
            "align_self": null,
            "border": null,
            "bottom": null,
            "display": null,
            "flex": null,
            "flex_flow": null,
            "grid_area": null,
            "grid_auto_columns": null,
            "grid_auto_flow": null,
            "grid_auto_rows": null,
            "grid_column": null,
            "grid_gap": null,
            "grid_row": null,
            "grid_template_areas": null,
            "grid_template_columns": null,
            "grid_template_rows": null,
            "height": null,
            "justify_content": null,
            "justify_items": null,
            "left": null,
            "margin": null,
            "max_height": null,
            "max_width": null,
            "min_height": null,
            "min_width": null,
            "object_fit": null,
            "object_position": null,
            "order": null,
            "overflow": null,
            "overflow_x": null,
            "overflow_y": null,
            "padding": null,
            "right": null,
            "top": null,
            "visibility": null,
            "width": null
          }
        },
        "f531918e590c4a1eac8258b0afef2c96": {
          "model_module": "@jupyter-widgets/controls",
          "model_name": "DescriptionStyleModel",
          "model_module_version": "1.5.0",
          "state": {
            "_model_module": "@jupyter-widgets/controls",
            "_model_module_version": "1.5.0",
            "_model_name": "DescriptionStyleModel",
            "_view_count": null,
            "_view_module": "@jupyter-widgets/base",
            "_view_module_version": "1.2.0",
            "_view_name": "StyleView",
            "description_width": "initial"
          }
        },
        "8846834d4f6e4c38943772e66c23b7bd": {
          "model_module": "@jupyter-widgets/base",
          "model_name": "LayoutModel",
          "model_module_version": "1.2.0",
          "state": {
            "_model_module": "@jupyter-widgets/base",
            "_model_module_version": "1.2.0",
            "_model_name": "LayoutModel",
            "_view_count": null,
            "_view_module": "@jupyter-widgets/base",
            "_view_module_version": "1.2.0",
            "_view_name": "LayoutView",
            "align_content": null,
            "align_items": null,
            "align_self": null,
            "border": null,
            "bottom": null,
            "display": null,
            "flex": null,
            "flex_flow": null,
            "grid_area": null,
            "grid_auto_columns": null,
            "grid_auto_flow": null,
            "grid_auto_rows": null,
            "grid_column": null,
            "grid_gap": null,
            "grid_row": null,
            "grid_template_areas": null,
            "grid_template_columns": null,
            "grid_template_rows": null,
            "height": null,
            "justify_content": null,
            "justify_items": null,
            "left": null,
            "margin": null,
            "max_height": null,
            "max_width": null,
            "min_height": null,
            "min_width": null,
            "object_fit": null,
            "object_position": null,
            "order": null,
            "overflow": null,
            "overflow_x": null,
            "overflow_y": null,
            "padding": null,
            "right": null,
            "top": null,
            "visibility": null,
            "width": null
          }
        },
        "3da46a8142fd4305a9349834e605a0c1": {
          "model_module": "@jupyter-widgets/controls",
          "model_name": "DescriptionStyleModel",
          "model_module_version": "1.5.0",
          "state": {
            "_model_module": "@jupyter-widgets/controls",
            "_model_module_version": "1.5.0",
            "_model_name": "DescriptionStyleModel",
            "_view_count": null,
            "_view_module": "@jupyter-widgets/base",
            "_view_module_version": "1.2.0",
            "_view_name": "StyleView",
            "description_width": "initial"
          }
        },
        "62349af9cfb44f0b9843d85afa2042a9": {
          "model_module": "@jupyter-widgets/base",
          "model_name": "LayoutModel",
          "model_module_version": "1.2.0",
          "state": {
            "_model_module": "@jupyter-widgets/base",
            "_model_module_version": "1.2.0",
            "_model_name": "LayoutModel",
            "_view_count": null,
            "_view_module": "@jupyter-widgets/base",
            "_view_module_version": "1.2.0",
            "_view_name": "LayoutView",
            "align_content": null,
            "align_items": null,
            "align_self": null,
            "border": null,
            "bottom": null,
            "display": null,
            "flex": null,
            "flex_flow": null,
            "grid_area": null,
            "grid_auto_columns": null,
            "grid_auto_flow": null,
            "grid_auto_rows": null,
            "grid_column": null,
            "grid_gap": null,
            "grid_row": null,
            "grid_template_areas": null,
            "grid_template_columns": null,
            "grid_template_rows": null,
            "height": null,
            "justify_content": null,
            "justify_items": null,
            "left": null,
            "margin": null,
            "max_height": null,
            "max_width": null,
            "min_height": null,
            "min_width": null,
            "object_fit": null,
            "object_position": null,
            "order": null,
            "overflow": null,
            "overflow_x": null,
            "overflow_y": null,
            "padding": null,
            "right": null,
            "top": null,
            "visibility": null,
            "width": null
          }
        },
        "4c54cf81051b4139a590df56b9b18c6b": {
          "model_module": "@jupyter-widgets/controls",
          "model_name": "ButtonStyleModel",
          "model_module_version": "1.5.0",
          "state": {
            "_model_module": "@jupyter-widgets/controls",
            "_model_module_version": "1.5.0",
            "_model_name": "ButtonStyleModel",
            "_view_count": null,
            "_view_module": "@jupyter-widgets/base",
            "_view_module_version": "1.2.0",
            "_view_name": "StyleView",
            "button_color": null,
            "font_weight": ""
          }
        },
        "aabf5baa50c541e0b18e4db0e5dff998": {
          "model_module": "@jupyter-widgets/base",
          "model_name": "LayoutModel",
          "model_module_version": "1.2.0",
          "state": {
            "_model_module": "@jupyter-widgets/base",
            "_model_module_version": "1.2.0",
            "_model_name": "LayoutModel",
            "_view_count": null,
            "_view_module": "@jupyter-widgets/base",
            "_view_module_version": "1.2.0",
            "_view_name": "LayoutView",
            "align_content": null,
            "align_items": null,
            "align_self": null,
            "border": "2px solid #ccc",
            "bottom": null,
            "display": null,
            "flex": null,
            "flex_flow": null,
            "grid_area": null,
            "grid_auto_columns": null,
            "grid_auto_flow": null,
            "grid_auto_rows": null,
            "grid_column": null,
            "grid_gap": null,
            "grid_row": null,
            "grid_template_areas": null,
            "grid_template_columns": null,
            "grid_template_rows": null,
            "height": null,
            "justify_content": null,
            "justify_items": null,
            "left": null,
            "margin": null,
            "max_height": null,
            "max_width": null,
            "min_height": null,
            "min_width": null,
            "object_fit": null,
            "object_position": null,
            "order": null,
            "overflow": null,
            "overflow_x": null,
            "overflow_y": null,
            "padding": "10px",
            "right": null,
            "top": null,
            "visibility": null,
            "width": "50%"
          }
        },
        "e0a54068b59c48cdb4cfe9dbf84f247f": {
          "model_module": "@jupyter-widgets/controls",
          "model_name": "DescriptionStyleModel",
          "model_module_version": "1.5.0",
          "state": {
            "_model_module": "@jupyter-widgets/controls",
            "_model_module_version": "1.5.0",
            "_model_name": "DescriptionStyleModel",
            "_view_count": null,
            "_view_module": "@jupyter-widgets/base",
            "_view_module_version": "1.2.0",
            "_view_name": "StyleView",
            "description_width": ""
          }
        }
      }
    }
  },
  "cells": [
    {
      "cell_type": "markdown",
      "metadata": {
        "id": "view-in-github",
        "colab_type": "text"
      },
      "source": [
        "<a href=\"https://colab.research.google.com/github/MustafaShama98/Cloud-Compute/blob/main/Targil_1.ipynb\" target=\"_parent\"><img src=\"https://colab.research.google.com/assets/colab-badge.svg\" alt=\"Open In Colab\"/></a>"
      ]
    },
    {
      "cell_type": "code",
      "source": [
        "!ls \"/content/drive/My Drive/Colab Notebooks\"\n"
      ],
      "metadata": {
        "colab": {
          "base_uri": "https://localhost:8080/"
        },
        "id": "2gSg8rF5TIGy",
        "outputId": "d3ddc142-46d2-4e88-8aa9-1df79f1e4657"
      },
      "execution_count": 45,
      "outputs": [
        {
          "output_type": "stream",
          "name": "stdout",
          "text": [
            "Targil-1.ipynb\tUntitled0.ipynb  Untitled1.ipynb\n"
          ]
        }
      ]
    },
    {
      "cell_type": "code",
      "source": [
        "from google.colab import drive\n",
        "drive.mount('/content/drive')"
      ],
      "metadata": {
        "colab": {
          "base_uri": "https://localhost:8080/"
        },
        "id": "4b95gz1ARAJq",
        "outputId": "d0b0d298-3c6a-49d4-f7fb-b7c105de7411"
      },
      "execution_count": 46,
      "outputs": [
        {
          "output_type": "stream",
          "name": "stdout",
          "text": [
            "Drive already mounted at /content/drive; to attempt to forcibly remount, call drive.mount(\"/content/drive\", force_remount=True).\n"
          ]
        }
      ]
    },
    {
      "cell_type": "code",
      "source": [
        "with open ('/content/drive/My Drive/Colab Notebooks/students.txt','r') as file:\n",
        "  contents=file.readlines()\n",
        "  print (contents)\n",
        "  file.close()"
      ],
      "metadata": {
        "colab": {
          "base_uri": "https://localhost:8080/"
        },
        "id": "FyBoFJpkURz-",
        "outputId": "905ceff7-61e4-4115-bd7d-0662f2162945"
      },
      "execution_count": 56,
      "outputs": [
        {
          "output_type": "stream",
          "name": "stdout",
          "text": [
            "['Tamer Talhami - Tamer.Talhami@e.braude.ac.il  - Probability, WEB , Intro to Cloud Computing , English \\n', 'Firas Amaria - Firas.amaria@e.braude.ac.il - math1,math2,algebra,cloudComputing \\n', 'Muhammed Yassin - mohammed.yassin@e.brade.ac.il - web, cloud computing, krypto, english \\n', 'Fawzi Abo Zhaya - fawzi.abo.zhaya@e.braude.ac.il - WEB,cloud computing - www.google.com \\n', 'Mustafa Shama - Mustafa.Shama@e.braude.ac.il - WEB,cloud computing, physics ']\n"
          ]
        }
      ]
    },
    {
      "cell_type": "code",
      "source": [
        "import ipywidgets as widgets\n",
        "from IPython.display import display, HTML\n",
        "\n",
        "# Load student information from file\n",
        "with open('/content/drive/My Drive/Colab Notebooks/students.txt', 'r') as file:\n",
        "    contents = file.readlines()\n",
        "\n",
        "# Extract student names from the file\n",
        "student_names = [student.split(' - ')[0] for student in contents]\n",
        "\n",
        "# Create a dropdown widget for selecting a student with some styling\n",
        "student_dropdown = widgets.Dropdown(\n",
        "    options=[\"\"] + student_names,\n",
        "    value=\"\",\n",
        "    description=\"Select Student:\",\n",
        "    style={'description_width': 'initial', 'width': '50%'}\n",
        ")\n",
        "\n",
        "# Create a text box for updating the favorite program\n",
        "update_program_textbox = widgets.Text(\n",
        "    value=\"\",\n",
        "    description=\"Update Program:\",\n",
        "    style={'description_width': 'initial', 'width': '50%'}\n",
        ")\n",
        "\n",
        "# Create a button for triggering the update\n",
        "update_button = widgets.Button(description=\"Update\", button_style='success')\n",
        "\n",
        "# Create an HTML widget to display student information with styling\n",
        "student_info_output = widgets.HTML(\n",
        "    layout=widgets.Layout(width='50%', border='2px solid #ccc', padding='10px')\n",
        ")\n",
        "\n",
        "# Function to update the displayed student information\n",
        "def update_student_info(selected_student):\n",
        "    if selected_student:\n",
        "        for student_info in contents:\n",
        "            if selected_student in student_info:\n",
        "                # Split the student information into name, email, courses, and website\n",
        "                student_data = student_info.split(' - ')\n",
        "\n",
        "                # Check if the line has enough information\n",
        "                if len(student_data) >= 3:\n",
        "                    name = student_data[0]\n",
        "                    courses = student_data[2].split(',')\n",
        "                    email = student_data[1]\n",
        "                    # Build HTML content for displaying student information\n",
        "                    html_content = f'<b>{name}</b>: <ul>'\n",
        "                    html_content += f'<b>{email}</b>: <ul>'\n",
        "                    for course in courses:\n",
        "                        html_content += f'<li>{course.strip()}</li>'\n",
        "                    html_content += '</ul>'\n",
        "\n",
        "                    # Update the HTML widget with the new content\n",
        "                    student_info_output.value = html_content\n",
        "\n",
        "# Function to update the favorite program in the text file\n",
        "def update_program_button_clicked(b):\n",
        "    selected_student = student_dropdown.value\n",
        "    new_program = update_program_textbox.value\n",
        "\n",
        "    if selected_student and new_program:\n",
        "        # Find the index of the selected student's information in the contents list\n",
        "        student_index = next((i for i, s in enumerate(contents) if selected_student in s), None)\n",
        "\n",
        "        if student_index is not None:\n",
        "             # Update the favorite program for the selected student\n",
        "            contents[student_index] += f\", {new_program}\"\n",
        "\n",
        "            # Save the updated contents to the file\n",
        "            with open('/content/drive/My Drive/Colab Notebooks/students.txt', 'w') as file:\n",
        "                file.writelines(contents)\n",
        "\n",
        "            # Display updated student information\n",
        "            update_student_info(selected_student)\n",
        "\n",
        "# Set up the interaction between widgets\n",
        "widgets.interactive(update_student_info, selected_student=student_dropdown)\n",
        "\n",
        "# Set up the button click event\n",
        "update_button.on_click(update_program_button_clicked)\n",
        "\n",
        "# Display widgets with some styling\n",
        "form_layout = widgets.Layout(display='flex', flex_flow='column', align_items='center')\n",
        "display(widgets.VBox([student_dropdown, update_program_textbox, update_button, student_info_output], layout=form_layout))\n"
      ],
      "metadata": {
        "colab": {
          "base_uri": "https://localhost:8080/",
          "height": 326,
          "referenced_widgets": [
            "135efa15c50d4f5cbee4aaf854fdd79e",
            "db61088d3e37406ebfd1f3d2dc0fcf0b",
            "42d4d6b12ff44c0fb16f77062e774a77",
            "77a63b3977744c0f9b7e87cff4c40c00",
            "27821974b0a1460cbe2f1bd5014fe534",
            "20e742d15b244205be7f80894579766a",
            "b6a6028002b04a82ac95089ad4df8548",
            "f531918e590c4a1eac8258b0afef2c96",
            "8846834d4f6e4c38943772e66c23b7bd",
            "3da46a8142fd4305a9349834e605a0c1",
            "62349af9cfb44f0b9843d85afa2042a9",
            "4c54cf81051b4139a590df56b9b18c6b",
            "aabf5baa50c541e0b18e4db0e5dff998",
            "e0a54068b59c48cdb4cfe9dbf84f247f"
          ]
        },
        "id": "y-Y1cbJcUvgn",
        "outputId": "714c4417-0d4a-4af7-f8f3-12b448757044"
      },
      "execution_count": 57,
      "outputs": [
        {
          "output_type": "display_data",
          "data": {
            "text/plain": [
              "VBox(children=(Dropdown(description='Select Student:', options=('', 'Tamer Talhami', 'Firas Amaria', 'Muhammed…"
            ],
            "application/vnd.jupyter.widget-view+json": {
              "version_major": 2,
              "version_minor": 0,
              "model_id": "135efa15c50d4f5cbee4aaf854fdd79e"
            }
          },
          "metadata": {}
        }
      ]
    }
  ]
}