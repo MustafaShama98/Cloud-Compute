{
  "nbformat": 4,
  "nbformat_minor": 0,
  "metadata": {
    "colab": {
      "provenance": [],
      "authorship_tag": "ABX9TyM+7I7FOWqxL57fvWXoh8wF",
      "include_colab_link": true
    },
    "kernelspec": {
      "name": "python3",
      "display_name": "Python 3"
    },
    "language_info": {
      "name": "python"
    },
    "widgets": {
      "application/vnd.jupyter.widget-state+json": {
        "b4547b52c6d74845948944d65962be5c": {
          "model_module": "@jupyter-widgets/controls",
          "model_name": "VBoxModel",
          "model_module_version": "1.5.0",
          "state": {
            "_dom_classes": [],
            "_model_module": "@jupyter-widgets/controls",
            "_model_module_version": "1.5.0",
            "_model_name": "VBoxModel",
            "_view_count": null,
            "_view_module": "@jupyter-widgets/controls",
            "_view_module_version": "1.5.0",
            "_view_name": "VBoxView",
            "box_style": "",
            "children": [
              "IPY_MODEL_898e3de854fc4c42a197cf0f76559c4e",
              "IPY_MODEL_c948c237890642afa7d61b739a7afa57",
              "IPY_MODEL_6c14df18c98642cbb10e527611695e69",
              "IPY_MODEL_a959d41f954c4a0d8eac57476a1add8b"
            ],
            "layout": "IPY_MODEL_3e2aac5d64a04b0a947e14550d425311"
          }
        },
        "898e3de854fc4c42a197cf0f76559c4e": {
          "model_module": "@jupyter-widgets/controls",
          "model_name": "DropdownModel",
          "model_module_version": "1.5.0",
          "state": {
            "_dom_classes": [],
            "_model_module": "@jupyter-widgets/controls",
            "_model_module_version": "1.5.0",
            "_model_name": "DropdownModel",
            "_options_labels": [
              "",
              "Tamer Talhami",
              "Firas Amaria",
              "Muhammed Yassin",
              "Fawzi Abo Zhaya",
              "Mustafa Shama"
            ],
            "_view_count": null,
            "_view_module": "@jupyter-widgets/controls",
            "_view_module_version": "1.5.0",
            "_view_name": "DropdownView",
            "description": "Select Student:",
            "description_tooltip": null,
            "disabled": false,
            "index": 5,
            "layout": "IPY_MODEL_c185276ef5e348c2832dfac27ec05b8b",
            "style": "IPY_MODEL_fed97b49f91a4a37ad11c6ee439de3b0"
          }
        },
        "c948c237890642afa7d61b739a7afa57": {
          "model_module": "@jupyter-widgets/controls",
          "model_name": "TextModel",
          "model_module_version": "1.5.0",
          "state": {
            "_dom_classes": [],
            "_model_module": "@jupyter-widgets/controls",
            "_model_module_version": "1.5.0",
            "_model_name": "TextModel",
            "_view_count": null,
            "_view_module": "@jupyter-widgets/controls",
            "_view_module_version": "1.5.0",
            "_view_name": "TextView",
            "continuous_update": true,
            "description": "Update Program:",
            "description_tooltip": null,
            "disabled": false,
            "layout": "IPY_MODEL_590434bcb94444d4976ea4fe56efa39b",
            "placeholder": "​",
            "style": "IPY_MODEL_1fd38bf1022443dca22fd0be00888722",
            "value": "test"
          }
        },
        "6c14df18c98642cbb10e527611695e69": {
          "model_module": "@jupyter-widgets/controls",
          "model_name": "ButtonModel",
          "model_module_version": "1.5.0",
          "state": {
            "_dom_classes": [],
            "_model_module": "@jupyter-widgets/controls",
            "_model_module_version": "1.5.0",
            "_model_name": "ButtonModel",
            "_view_count": null,
            "_view_module": "@jupyter-widgets/controls",
            "_view_module_version": "1.5.0",
            "_view_name": "ButtonView",
            "button_style": "success",
            "description": "Update",
            "disabled": false,
            "icon": "",
            "layout": "IPY_MODEL_d40ec0ed2dae45d5b8e022e7301d7a31",
            "style": "IPY_MODEL_93a9b10c05044fd7ae1d9720e381e2f0",
            "tooltip": ""
          }
        },
        "a959d41f954c4a0d8eac57476a1add8b": {
          "model_module": "@jupyter-widgets/controls",
          "model_name": "HTMLModel",
          "model_module_version": "1.5.0",
          "state": {
            "_dom_classes": [],
            "_model_module": "@jupyter-widgets/controls",
            "_model_module_version": "1.5.0",
            "_model_name": "HTMLModel",
            "_view_count": null,
            "_view_module": "@jupyter-widgets/controls",
            "_view_module_version": "1.5.0",
            "_view_name": "HTMLView",
            "description": "",
            "description_tooltip": null,
            "layout": "IPY_MODEL_70195d3930b44ec783aa9618176714b5",
            "placeholder": "​",
            "style": "IPY_MODEL_70b0a3187191490e874cbcc47f5f6f91",
            "value": "<b>Mustafa Shama</b>: Mustafa.Shama@e.braude.ac.il<ul><li>WEB</li><li>cloud computing</li><li>physics</li><li>test</li></ul>"
          }
        },
        "3e2aac5d64a04b0a947e14550d425311": {
          "model_module": "@jupyter-widgets/base",
          "model_name": "LayoutModel",
          "model_module_version": "1.2.0",
          "state": {
            "_model_module": "@jupyter-widgets/base",
            "_model_module_version": "1.2.0",
            "_model_name": "LayoutModel",
            "_view_count": null,
            "_view_module": "@jupyter-widgets/base",
            "_view_module_version": "1.2.0",
            "_view_name": "LayoutView",
            "align_content": null,
            "align_items": "center",
            "align_self": null,
            "border": null,
            "bottom": null,
            "display": "flex",
            "flex": null,
            "flex_flow": "column",
            "grid_area": null,
            "grid_auto_columns": null,
            "grid_auto_flow": null,
            "grid_auto_rows": null,
            "grid_column": null,
            "grid_gap": null,
            "grid_row": null,
            "grid_template_areas": null,
            "grid_template_columns": null,
            "grid_template_rows": null,
            "height": null,
            "justify_content": null,
            "justify_items": null,
            "left": null,
            "margin": null,
            "max_height": null,
            "max_width": null,
            "min_height": null,
            "min_width": null,
            "object_fit": null,
            "object_position": null,
            "order": null,
            "overflow": null,
            "overflow_x": null,
            "overflow_y": null,
            "padding": null,
            "right": null,
            "top": null,
            "visibility": null,
            "width": null
          }
        },
        "c185276ef5e348c2832dfac27ec05b8b": {
          "model_module": "@jupyter-widgets/base",
          "model_name": "LayoutModel",
          "model_module_version": "1.2.0",
          "state": {
            "_model_module": "@jupyter-widgets/base",
            "_model_module_version": "1.2.0",
            "_model_name": "LayoutModel",
            "_view_count": null,
            "_view_module": "@jupyter-widgets/base",
            "_view_module_version": "1.2.0",
            "_view_name": "LayoutView",
            "align_content": null,
            "align_items": null,
            "align_self": null,
            "border": null,
            "bottom": null,
            "display": null,
            "flex": null,
            "flex_flow": null,
            "grid_area": null,
            "grid_auto_columns": null,
            "grid_auto_flow": null,
            "grid_auto_rows": null,
            "grid_column": null,
            "grid_gap": null,
            "grid_row": null,
            "grid_template_areas": null,
            "grid_template_columns": null,
            "grid_template_rows": null,
            "height": null,
            "justify_content": null,
            "justify_items": null,
            "left": null,
            "margin": null,
            "max_height": null,
            "max_width": null,
            "min_height": null,
            "min_width": null,
            "object_fit": null,
            "object_position": null,
            "order": null,
            "overflow": null,
            "overflow_x": null,
            "overflow_y": null,
            "padding": null,
            "right": null,
            "top": null,
            "visibility": null,
            "width": null
          }
        },
        "fed97b49f91a4a37ad11c6ee439de3b0": {
          "model_module": "@jupyter-widgets/controls",
          "model_name": "DescriptionStyleModel",
          "model_module_version": "1.5.0",
          "state": {
            "_model_module": "@jupyter-widgets/controls",
            "_model_module_version": "1.5.0",
            "_model_name": "DescriptionStyleModel",
            "_view_count": null,
            "_view_module": "@jupyter-widgets/base",
            "_view_module_version": "1.2.0",
            "_view_name": "StyleView",
            "description_width": "initial"
          }
        },
        "590434bcb94444d4976ea4fe56efa39b": {
          "model_module": "@jupyter-widgets/base",
          "model_name": "LayoutModel",
          "model_module_version": "1.2.0",
          "state": {
            "_model_module": "@jupyter-widgets/base",
            "_model_module_version": "1.2.0",
            "_model_name": "LayoutModel",
            "_view_count": null,
            "_view_module": "@jupyter-widgets/base",
            "_view_module_version": "1.2.0",
            "_view_name": "LayoutView",
            "align_content": null,
            "align_items": null,
            "align_self": null,
            "border": null,
            "bottom": null,
            "display": null,
            "flex": null,
            "flex_flow": null,
            "grid_area": null,
            "grid_auto_columns": null,
            "grid_auto_flow": null,
            "grid_auto_rows": null,
            "grid_column": null,
            "grid_gap": null,
            "grid_row": null,
            "grid_template_areas": null,
            "grid_template_columns": null,
            "grid_template_rows": null,
            "height": null,
            "justify_content": null,
            "justify_items": null,
            "left": null,
            "margin": null,
            "max_height": null,
            "max_width": null,
            "min_height": null,
            "min_width": null,
            "object_fit": null,
            "object_position": null,
            "order": null,
            "overflow": null,
            "overflow_x": null,
            "overflow_y": null,
            "padding": null,
            "right": null,
            "top": null,
            "visibility": null,
            "width": null
          }
        },
        "1fd38bf1022443dca22fd0be00888722": {
          "model_module": "@jupyter-widgets/controls",
          "model_name": "DescriptionStyleModel",
          "model_module_version": "1.5.0",
          "state": {
            "_model_module": "@jupyter-widgets/controls",
            "_model_module_version": "1.5.0",
            "_model_name": "DescriptionStyleModel",
            "_view_count": null,
            "_view_module": "@jupyter-widgets/base",
            "_view_module_version": "1.2.0",
            "_view_name": "StyleView",
            "description_width": "initial"
          }
        },
        "d40ec0ed2dae45d5b8e022e7301d7a31": {
          "model_module": "@jupyter-widgets/base",
          "model_name": "LayoutModel",
          "model_module_version": "1.2.0",
          "state": {
            "_model_module": "@jupyter-widgets/base",
            "_model_module_version": "1.2.0",
            "_model_name": "LayoutModel",
            "_view_count": null,
            "_view_module": "@jupyter-widgets/base",
            "_view_module_version": "1.2.0",
            "_view_name": "LayoutView",
            "align_content": null,
            "align_items": null,
            "align_self": null,
            "border": null,
            "bottom": null,
            "display": null,
            "flex": null,
            "flex_flow": null,
            "grid_area": null,
            "grid_auto_columns": null,
            "grid_auto_flow": null,
            "grid_auto_rows": null,
            "grid_column": null,
            "grid_gap": null,
            "grid_row": null,
            "grid_template_areas": null,
            "grid_template_columns": null,
            "grid_template_rows": null,
            "height": null,
            "justify_content": null,
            "justify_items": null,
            "left": null,
            "margin": null,
            "max_height": null,
            "max_width": null,
            "min_height": null,
            "min_width": null,
            "object_fit": null,
            "object_position": null,
            "order": null,
            "overflow": null,
            "overflow_x": null,
            "overflow_y": null,
            "padding": null,
            "right": null,
            "top": null,
            "visibility": null,
            "width": null
          }
        },
        "93a9b10c05044fd7ae1d9720e381e2f0": {
          "model_module": "@jupyter-widgets/controls",
          "model_name": "ButtonStyleModel",
          "model_module_version": "1.5.0",
          "state": {
            "_model_module": "@jupyter-widgets/controls",
            "_model_module_version": "1.5.0",
            "_model_name": "ButtonStyleModel",
            "_view_count": null,
            "_view_module": "@jupyter-widgets/base",
            "_view_module_version": "1.2.0",
            "_view_name": "StyleView",
            "button_color": null,
            "font_weight": ""
          }
        },
        "70195d3930b44ec783aa9618176714b5": {
          "model_module": "@jupyter-widgets/base",
          "model_name": "LayoutModel",
          "model_module_version": "1.2.0",
          "state": {
            "_model_module": "@jupyter-widgets/base",
            "_model_module_version": "1.2.0",
            "_model_name": "LayoutModel",
            "_view_count": null,
            "_view_module": "@jupyter-widgets/base",
            "_view_module_version": "1.2.0",
            "_view_name": "LayoutView",
            "align_content": null,
            "align_items": null,
            "align_self": null,
            "border": "2px solid #ccc",
            "bottom": null,
            "display": null,
            "flex": null,
            "flex_flow": null,
            "grid_area": null,
            "grid_auto_columns": null,
            "grid_auto_flow": null,
            "grid_auto_rows": null,
            "grid_column": null,
            "grid_gap": null,
            "grid_row": null,
            "grid_template_areas": null,
            "grid_template_columns": null,
            "grid_template_rows": null,
            "height": null,
            "justify_content": null,
            "justify_items": null,
            "left": null,
            "margin": null,
            "max_height": null,
            "max_width": null,
            "min_height": null,
            "min_width": null,
            "object_fit": null,
            "object_position": null,
            "order": null,
            "overflow": null,
            "overflow_x": null,
            "overflow_y": null,
            "padding": "10px",
            "right": null,
            "top": null,
            "visibility": null,
            "width": "50%"
          }
        },
        "70b0a3187191490e874cbcc47f5f6f91": {
          "model_module": "@jupyter-widgets/controls",
          "model_name": "DescriptionStyleModel",
          "model_module_version": "1.5.0",
          "state": {
            "_model_module": "@jupyter-widgets/controls",
            "_model_module_version": "1.5.0",
            "_model_name": "DescriptionStyleModel",
            "_view_count": null,
            "_view_module": "@jupyter-widgets/base",
            "_view_module_version": "1.2.0",
            "_view_name": "StyleView",
            "description_width": ""
          }
        }
      }
    }
  },
  "cells": [
    {
      "cell_type": "markdown",
      "metadata": {
        "id": "view-in-github",
        "colab_type": "text"
      },
      "source": [
        "<a href=\"https://colab.research.google.com/github/MustafaShama98/Cloud-Compute/blob/main/targil_2.ipynb\" target=\"_parent\"><img src=\"https://colab.research.google.com/assets/colab-badge.svg\" alt=\"Open In Colab\"/></a>"
      ]
    },
    {
      "cell_type": "code",
      "execution_count": 1,
      "metadata": {
        "colab": {
          "base_uri": "https://localhost:8080/"
        },
        "id": "I4_2iAWkwh_m",
        "outputId": "c7fc3144-1867-4247-e386-8f532300f6b8"
      },
      "outputs": [
        {
          "output_type": "stream",
          "name": "stdout",
          "text": [
            "Mounted at /content/drive\n"
          ]
        }
      ],
      "source": [
        "from google.colab import drive\n",
        "drive.mount('/content/drive')"
      ]
    },
    {
      "cell_type": "code",
      "source": [
        "!ls \"/content/drive/My Drive/Colab Notebooks\""
      ],
      "metadata": {
        "colab": {
          "base_uri": "https://localhost:8080/"
        },
        "id": "eOl96HkLxysf",
        "outputId": "3c7b3ab8-c188-4c05-fc74-24c092f69753"
      },
      "execution_count": 3,
      "outputs": [
        {
          "output_type": "stream",
          "name": "stdout",
          "text": [
            "students.json  students.txt  Targil-1.ipynb  targil-2.ipynb  Untitled0.ipynb  Untitled1.ipynb\n"
          ]
        }
      ]
    },
    {
      "cell_type": "code",
      "source": [
        "import ipywidgets as widgets\n",
        "from IPython.display import display, HTML\n",
        "import json\n",
        "\n",
        "# Load student information from JSON file\n",
        "with open('/content/drive/My Drive/Colab Notebooks/students.json', 'r') as file:\n",
        "    students_data = json.load(file)[\"students\"]\n",
        "\n",
        "# Extract student names from the JSON data\n",
        "student_names = [student[\"name\"] for student in students_data]\n",
        "\n",
        "\n",
        "student_dropdown = widgets.Dropdown(\n",
        "    options=[\"\"] + student_names,\n",
        "    value=\"\",\n",
        "    description=\"Select Student:\",\n",
        "    style={'description_width': 'initial', 'width': '50%'}\n",
        ")\n",
        "\n",
        "update_program_textbox = widgets.Text(\n",
        "    value=\"\",\n",
        "    description=\"Update Program:\",\n",
        "    style={'description_width': 'initial', 'width': '50%'}\n",
        ")\n",
        "\n",
        "update_button = widgets.Button(description=\"Update\", button_style='success')\n",
        "\n",
        "student_info_output = widgets.HTML(\n",
        "    layout=widgets.Layout(width='50%', border='2px solid #ccc', padding='10px')\n",
        ")\n",
        "\n",
        "# Function to update the displayed student information\n",
        "def update_student_info(selected_student):\n",
        "    if selected_student:\n",
        "        for student in students_data:\n",
        "            if selected_student == student[\"name\"]:\n",
        "\n",
        "                name = student[\"name\"]\n",
        "                email = student[\"email\"]\n",
        "                courses = student[\"courses\"]\n",
        "\n",
        "\n",
        "                html_content = f'<b>{name}</b>: {email}<ul>'\n",
        "                for course in courses:\n",
        "                    html_content += f'<li>{course}</li>'\n",
        "                html_content += '</ul>'\n",
        "\n",
        "                student_info_output.value = html_content\n",
        "\n",
        "def update_program_button_clicked(b):\n",
        "    selected_student = student_dropdown.value\n",
        "    new_program = update_program_textbox.value\n",
        "\n",
        "    if selected_student and new_program:\n",
        "        # Find the student in the JSON data\n",
        "        selected_student_data = next((student for student in students_data if selected_student == student[\"name\"]), None)\n",
        "\n",
        "        if selected_student_data is not None:\n",
        "\n",
        "            selected_student_data[\"courses\"].append(new_program)\n",
        "\n",
        "            # Save the updated JSON data to the file\n",
        "            with open('/content/drive/My Drive/Colab Notebooks/students.json', 'w') as file:\n",
        "                json.dump({\"students\": students_data}, file, indent=2)\n",
        "\n",
        "            # Display updated student information\n",
        "            update_student_info(selected_student)\n",
        "\n",
        "\n",
        "widgets.interactive(update_student_info, selected_student=student_dropdown)\n",
        "\n",
        "update_button.on_click(update_program_button_clicked)\n",
        "\n",
        "\n",
        "form_layout = widgets.Layout(display='flex', flex_flow='column', align_items='center')\n",
        "display(widgets.VBox([student_dropdown, update_program_textbox, update_button, student_info_output], layout=form_layout))\n"
      ],
      "metadata": {
        "colab": {
          "base_uri": "https://localhost:8080/",
          "height": 292,
          "referenced_widgets": [
            "b4547b52c6d74845948944d65962be5c",
            "898e3de854fc4c42a197cf0f76559c4e",
            "c948c237890642afa7d61b739a7afa57",
            "6c14df18c98642cbb10e527611695e69",
            "a959d41f954c4a0d8eac57476a1add8b",
            "3e2aac5d64a04b0a947e14550d425311",
            "c185276ef5e348c2832dfac27ec05b8b",
            "fed97b49f91a4a37ad11c6ee439de3b0",
            "590434bcb94444d4976ea4fe56efa39b",
            "1fd38bf1022443dca22fd0be00888722",
            "d40ec0ed2dae45d5b8e022e7301d7a31",
            "93a9b10c05044fd7ae1d9720e381e2f0",
            "70195d3930b44ec783aa9618176714b5",
            "70b0a3187191490e874cbcc47f5f6f91"
          ]
        },
        "id": "fA8E7w6OyQmE",
        "outputId": "b9b93856-2db1-4c85-c402-8ed9e8339b63"
      },
      "execution_count": 4,
      "outputs": [
        {
          "output_type": "display_data",
          "data": {
            "text/plain": [
              "VBox(children=(Dropdown(description='Select Student:', options=('', 'Tamer Talhami', 'Firas Amaria', 'Muhammed…"
            ],
            "application/vnd.jupyter.widget-view+json": {
              "version_major": 2,
              "version_minor": 0,
              "model_id": "b4547b52c6d74845948944d65962be5c"
            }
          },
          "metadata": {}
        }
      ]
    }
  ]
}