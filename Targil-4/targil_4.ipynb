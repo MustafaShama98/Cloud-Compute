{
  "cells": [
    {
      "cell_type": "markdown",
      "metadata": {
        "colab_type": "text",
        "id": "view-in-github"
      },
      "source": [
        "<a href=\"https://colab.research.google.com/github/MustafaShama98/Cloud-Compute/blob/main/targil_4.ipynb\" target=\"_parent\"><img src=\"https://colab.research.google.com/assets/colab-badge.svg\" alt=\"Open In Colab\"/></a>"
      ]
    },
    {
      "cell_type": "code",
      "execution_count": 1,
      "metadata": {
        "colab": {
          "base_uri": "https://localhost:8080/"
        },
        "id": "DmHFBjbRQaEF",
        "outputId": "b818e021-41af-4aaa-8105-9bd5835beb16"
      },
      "outputs": [
        {
          "name": "stdout",
          "output_type": "stream",
          "text": [
            "Mounted at /content/drive\n"
          ]
        }
      ],
      "source": [
        "from google.colab import drive\n",
        "drive.mount('/content/drive')"
      ]
    },
    {
      "cell_type": "code",
      "execution_count": 12,
      "metadata": {
        "colab": {
          "base_uri": "https://localhost:8080/"
        },
        "id": "mzVfTwO6Q3eQ",
        "outputId": "d93b7df8-436f-4e9c-fa93-64f45c4cee88"
      },
      "outputs": [
        {
          "name": "stdout",
          "output_type": "stream",
          "text": [
            "questions.json\tstudents.txt\ttargil-2.ipynb\t Untitled1.ipynb\n",
            "students.json\tTargil-1.ipynb\tUntitled0.ipynb  Untitled2.ipynb\n"
          ]
        }
      ],
      "source": [
        "!ls \"/content/drive/My Drive/Colab Notebooks\""
      ]
    },
    {
      "cell_type": "code",
      "execution_count": 20,
      "metadata": {
        "colab": {
          "base_uri": "https://localhost:8080/",
          "height": 408,
          "referenced_widgets": [
            "94eb9fdb09b6484b87ecce80bcc1e54f",
            "6e2a19e4dadb437484672ea8c2280834",
            "6f4a30b3cf224a0dbe00e6de78193d64",
            "3fde503197b3423da17bb3c2d749fc16",
            "edb867f06ad241fbb0b857b75a09f10b",
            "b2df4904d9fd40a1af9b274ff04148fd",
            "7ea3e650cc0940ed861d1c123e97d84a",
            "4426119b6d5445d5939abde59437cd62",
            "504fdc9c7a644728bded9b2a64d6cb12",
            "781658f6b2e048b1850e65260e31c986",
            "1a110522a0224353b766225cbaeb6ad2",
            "b268d5ce711d4effa203ebf1161e643a"
          ]
        },
        "id": "YvXSBxVLQ6QD",
        "outputId": "e5a54430-ba23-4bb1-b707-27294f5d24cd"
      },
      "outputs": [
        {
          "name": "stdout",
          "output_type": "stream",
          "text": [
            "Question 3: What does the range() function in Python return?\n",
            "\n"
          ]
        },
        {
          "data": {
            "application/vnd.jupyter.widget-view+json": {
              "model_id": "94eb9fdb09b6484b87ecce80bcc1e54f",
              "version_major": 2,
              "version_minor": 0
            },
            "text/plain": [
              "Button(description='A) A list of numbers in the specified range', style=ButtonStyle())"
            ]
          },
          "metadata": {},
          "output_type": "display_data"
        },
        {
          "data": {
            "application/vnd.jupyter.widget-view+json": {
              "model_id": "3fde503197b3423da17bb3c2d749fc16",
              "version_major": 2,
              "version_minor": 0
            },
            "text/plain": [
              "Button(description='B) A generator object that yields numbers in the specified range', style=ButtonStyle())"
            ]
          },
          "metadata": {},
          "output_type": "display_data"
        },
        {
          "data": {
            "application/vnd.jupyter.widget-view+json": {
              "model_id": "7ea3e650cc0940ed861d1c123e97d84a",
              "version_major": 2,
              "version_minor": 0
            },
            "text/plain": [
              "Button(description='C) A tuple containing numbers in the specified range', style=ButtonStyle())"
            ]
          },
          "metadata": {},
          "output_type": "display_data"
        },
        {
          "data": {
            "application/vnd.jupyter.widget-view+json": {
              "model_id": "781658f6b2e048b1850e65260e31c986",
              "version_major": 2,
              "version_minor": 0
            },
            "text/plain": [
              "Button(description='D) An error because range() is not a valid function in Python', style=ButtonStyle())"
            ]
          },
          "metadata": {},
          "output_type": "display_data"
        },
        {
          "ename": "AttributeError",
          "evalue": "'dict' object has no attribute 'correct_answer'",
          "output_type": "error",
          "traceback": [
            "\u001b[0;31m---------------------------------------------------------------------------\u001b[0m",
            "\u001b[0;31mAttributeError\u001b[0m                            Traceback (most recent call last)",
            "\u001b[0;32m<ipython-input-20-d178e821be32>\u001b[0m in \u001b[0;36mhandle_answer\u001b[0;34m(sender)\u001b[0m\n\u001b[1;32m     18\u001b[0m     \u001b[0;32mglobal\u001b[0m \u001b[0mplayer_score\u001b[0m\u001b[0;34m\u001b[0m\u001b[0;34m\u001b[0m\u001b[0m\n\u001b[1;32m     19\u001b[0m     \u001b[0muser_answer\u001b[0m \u001b[0;34m=\u001b[0m \u001b[0msender\u001b[0m\u001b[0;34m.\u001b[0m\u001b[0mdescription\u001b[0m\u001b[0;34m\u001b[0m\u001b[0;34m\u001b[0m\u001b[0m\n\u001b[0;32m---> 20\u001b[0;31m     \u001b[0mcorrect_answer\u001b[0m \u001b[0;34m=\u001b[0m \u001b[0mquestions\u001b[0m\u001b[0;34m[\u001b[0m\u001b[0mcurrent_question\u001b[0m\u001b[0;34m]\u001b[0m\u001b[0;34m.\u001b[0m\u001b[0mcorrect_answer\u001b[0m\u001b[0;34m\u001b[0m\u001b[0;34m\u001b[0m\u001b[0m\n\u001b[0m\u001b[1;32m     21\u001b[0m     \u001b[0mprint\u001b[0m\u001b[0;34m(\u001b[0m\u001b[0mcorrect_answer\u001b[0m\u001b[0;34m)\u001b[0m\u001b[0;34m\u001b[0m\u001b[0;34m\u001b[0m\u001b[0m\n\u001b[1;32m     22\u001b[0m     \u001b[0;32mif\u001b[0m \u001b[0muser_answer\u001b[0m \u001b[0;34m==\u001b[0m \u001b[0mcorrect_answer\u001b[0m\u001b[0;34m:\u001b[0m\u001b[0;34m\u001b[0m\u001b[0;34m\u001b[0m\u001b[0m\n",
            "\u001b[0;31mAttributeError\u001b[0m: 'dict' object has no attribute 'correct_answer'"
          ]
        }
      ],
      "source": [
        "import json\n",
        "import random\n",
        "import ipywidgets as widgets\n",
        "from IPython.display import display\n",
        "\n",
        "# Load questions from JSON file\n",
        "with open('/content/drive/My Drive/Colab Notebooks/questions.json', 'r') as file:\n",
        "    questions_data = json.load(file)[\"questions\"]\n",
        "# Shuffle questions randomly\n",
        "random.shuffle(questions_data)\n",
        "\n",
        "# Initialize player score\n",
        "player_score = 0\n",
        "\n",
        "# Function to handle user's answer\n",
        "def handle_answer(sender):\n",
        "    global player_score\n",
        "    user_answer = sender.description\n",
        "    correct_answer = questions_data[current_question][\"correct_answer\"]\n",
        "    print(correct_answer)\n",
        "    if user_answer == correct_answer:\n",
        "        player_score += 1\n",
        "\n",
        "    # Move to the next question or display final score\n",
        "    if current_question < len(questions_data) - 1:\n",
        "        display_question()\n",
        "    else:\n",
        "        print(f\"Game Over! Your score: {player_score}/{len(questions_data)}\")\n",
        "\n",
        "# Function to display a question\n",
        "def display_question():\n",
        "    global current_question\n",
        "    current_question += 1\n",
        "\n",
        "    # Display question text\n",
        "    question = questions_data[current_question]\n",
        "    print(f\"Question {question['question_number']}: {question['question_text']}\\n\")\n",
        "\n",
        "    # Create buttons for answer options\n",
        "    options = [\n",
        "        question[\"first_answer\"],\n",
        "        question[\"second_answer\"],\n",
        "        question[\"third_answer\"],\n",
        "        question[\"fourth_answer\"]\n",
        "    ]\n",
        "\n",
        "    answer_buttons = [widgets.Button(description=option) for option in options]\n",
        "\n",
        "    # Assign on_click event for each button\n",
        "    for button in answer_buttons:\n",
        "        button.on_click(handle_answer)\n",
        "\n",
        "    # Display buttons\n",
        "    display(*answer_buttons)\n",
        "\n",
        "# Start the game\n",
        "current_question = -1\n",
        "display_question()"
      ]
    }
  ],
  "metadata": {
    "colab": {
      "authorship_tag": "ABX9TyOSD7KhhcZMV3fO1nb7uCMI",
      "include_colab_link": true,
      "provenance": []
    },
    "kernelspec": {
      "display_name": "Python 3",
      "name": "python3"
    },
    "language_info": {
      "name": "python"
    },
    "widgets": {
      "application/vnd.jupyter.widget-state+json": {
        "1a110522a0224353b766225cbaeb6ad2": {
          "model_module": "@jupyter-widgets/base",
          "model_module_version": "1.2.0",
          "model_name": "LayoutModel",
          "state": {
            "_model_module": "@jupyter-widgets/base",
            "_model_module_version": "1.2.0",
            "_model_name": "LayoutModel",
            "_view_count": null,
            "_view_module": "@jupyter-widgets/base",
            "_view_module_version": "1.2.0",
            "_view_name": "LayoutView",
            "align_content": null,
            "align_items": null,
            "align_self": null,
            "border": null,
            "bottom": null,
            "display": null,
            "flex": null,
            "flex_flow": null,
            "grid_area": null,
            "grid_auto_columns": null,
            "grid_auto_flow": null,
            "grid_auto_rows": null,
            "grid_column": null,
            "grid_gap": null,
            "grid_row": null,
            "grid_template_areas": null,
            "grid_template_columns": null,
            "grid_template_rows": null,
            "height": null,
            "justify_content": null,
            "justify_items": null,
            "left": null,
            "margin": null,
            "max_height": null,
            "max_width": null,
            "min_height": null,
            "min_width": null,
            "object_fit": null,
            "object_position": null,
            "order": null,
            "overflow": null,
            "overflow_x": null,
            "overflow_y": null,
            "padding": null,
            "right": null,
            "top": null,
            "visibility": null,
            "width": null
          }
        },
        "3fde503197b3423da17bb3c2d749fc16": {
          "model_module": "@jupyter-widgets/controls",
          "model_module_version": "1.5.0",
          "model_name": "ButtonModel",
          "state": {
            "_dom_classes": [],
            "_model_module": "@jupyter-widgets/controls",
            "_model_module_version": "1.5.0",
            "_model_name": "ButtonModel",
            "_view_count": null,
            "_view_module": "@jupyter-widgets/controls",
            "_view_module_version": "1.5.0",
            "_view_name": "ButtonView",
            "button_style": "",
            "description": "B) A generator object that yields numbers in the specified range",
            "disabled": false,
            "icon": "",
            "layout": "IPY_MODEL_edb867f06ad241fbb0b857b75a09f10b",
            "style": "IPY_MODEL_b2df4904d9fd40a1af9b274ff04148fd",
            "tooltip": ""
          }
        },
        "4426119b6d5445d5939abde59437cd62": {
          "model_module": "@jupyter-widgets/base",
          "model_module_version": "1.2.0",
          "model_name": "LayoutModel",
          "state": {
            "_model_module": "@jupyter-widgets/base",
            "_model_module_version": "1.2.0",
            "_model_name": "LayoutModel",
            "_view_count": null,
            "_view_module": "@jupyter-widgets/base",
            "_view_module_version": "1.2.0",
            "_view_name": "LayoutView",
            "align_content": null,
            "align_items": null,
            "align_self": null,
            "border": null,
            "bottom": null,
            "display": null,
            "flex": null,
            "flex_flow": null,
            "grid_area": null,
            "grid_auto_columns": null,
            "grid_auto_flow": null,
            "grid_auto_rows": null,
            "grid_column": null,
            "grid_gap": null,
            "grid_row": null,
            "grid_template_areas": null,
            "grid_template_columns": null,
            "grid_template_rows": null,
            "height": null,
            "justify_content": null,
            "justify_items": null,
            "left": null,
            "margin": null,
            "max_height": null,
            "max_width": null,
            "min_height": null,
            "min_width": null,
            "object_fit": null,
            "object_position": null,
            "order": null,
            "overflow": null,
            "overflow_x": null,
            "overflow_y": null,
            "padding": null,
            "right": null,
            "top": null,
            "visibility": null,
            "width": null
          }
        },
        "504fdc9c7a644728bded9b2a64d6cb12": {
          "model_module": "@jupyter-widgets/controls",
          "model_module_version": "1.5.0",
          "model_name": "ButtonStyleModel",
          "state": {
            "_model_module": "@jupyter-widgets/controls",
            "_model_module_version": "1.5.0",
            "_model_name": "ButtonStyleModel",
            "_view_count": null,
            "_view_module": "@jupyter-widgets/base",
            "_view_module_version": "1.2.0",
            "_view_name": "StyleView",
            "button_color": null,
            "font_weight": ""
          }
        },
        "6e2a19e4dadb437484672ea8c2280834": {
          "model_module": "@jupyter-widgets/base",
          "model_module_version": "1.2.0",
          "model_name": "LayoutModel",
          "state": {
            "_model_module": "@jupyter-widgets/base",
            "_model_module_version": "1.2.0",
            "_model_name": "LayoutModel",
            "_view_count": null,
            "_view_module": "@jupyter-widgets/base",
            "_view_module_version": "1.2.0",
            "_view_name": "LayoutView",
            "align_content": null,
            "align_items": null,
            "align_self": null,
            "border": null,
            "bottom": null,
            "display": null,
            "flex": null,
            "flex_flow": null,
            "grid_area": null,
            "grid_auto_columns": null,
            "grid_auto_flow": null,
            "grid_auto_rows": null,
            "grid_column": null,
            "grid_gap": null,
            "grid_row": null,
            "grid_template_areas": null,
            "grid_template_columns": null,
            "grid_template_rows": null,
            "height": null,
            "justify_content": null,
            "justify_items": null,
            "left": null,
            "margin": null,
            "max_height": null,
            "max_width": null,
            "min_height": null,
            "min_width": null,
            "object_fit": null,
            "object_position": null,
            "order": null,
            "overflow": null,
            "overflow_x": null,
            "overflow_y": null,
            "padding": null,
            "right": null,
            "top": null,
            "visibility": null,
            "width": null
          }
        },
        "6f4a30b3cf224a0dbe00e6de78193d64": {
          "model_module": "@jupyter-widgets/controls",
          "model_module_version": "1.5.0",
          "model_name": "ButtonStyleModel",
          "state": {
            "_model_module": "@jupyter-widgets/controls",
            "_model_module_version": "1.5.0",
            "_model_name": "ButtonStyleModel",
            "_view_count": null,
            "_view_module": "@jupyter-widgets/base",
            "_view_module_version": "1.2.0",
            "_view_name": "StyleView",
            "button_color": null,
            "font_weight": ""
          }
        },
        "781658f6b2e048b1850e65260e31c986": {
          "model_module": "@jupyter-widgets/controls",
          "model_module_version": "1.5.0",
          "model_name": "ButtonModel",
          "state": {
            "_dom_classes": [],
            "_model_module": "@jupyter-widgets/controls",
            "_model_module_version": "1.5.0",
            "_model_name": "ButtonModel",
            "_view_count": null,
            "_view_module": "@jupyter-widgets/controls",
            "_view_module_version": "1.5.0",
            "_view_name": "ButtonView",
            "button_style": "",
            "description": "D) An error because range() is not a valid function in Python",
            "disabled": false,
            "icon": "",
            "layout": "IPY_MODEL_1a110522a0224353b766225cbaeb6ad2",
            "style": "IPY_MODEL_b268d5ce711d4effa203ebf1161e643a",
            "tooltip": ""
          }
        },
        "7ea3e650cc0940ed861d1c123e97d84a": {
          "model_module": "@jupyter-widgets/controls",
          "model_module_version": "1.5.0",
          "model_name": "ButtonModel",
          "state": {
            "_dom_classes": [],
            "_model_module": "@jupyter-widgets/controls",
            "_model_module_version": "1.5.0",
            "_model_name": "ButtonModel",
            "_view_count": null,
            "_view_module": "@jupyter-widgets/controls",
            "_view_module_version": "1.5.0",
            "_view_name": "ButtonView",
            "button_style": "",
            "description": "C) A tuple containing numbers in the specified range",
            "disabled": false,
            "icon": "",
            "layout": "IPY_MODEL_4426119b6d5445d5939abde59437cd62",
            "style": "IPY_MODEL_504fdc9c7a644728bded9b2a64d6cb12",
            "tooltip": ""
          }
        },
        "94eb9fdb09b6484b87ecce80bcc1e54f": {
          "model_module": "@jupyter-widgets/controls",
          "model_module_version": "1.5.0",
          "model_name": "ButtonModel",
          "state": {
            "_dom_classes": [],
            "_model_module": "@jupyter-widgets/controls",
            "_model_module_version": "1.5.0",
            "_model_name": "ButtonModel",
            "_view_count": null,
            "_view_module": "@jupyter-widgets/controls",
            "_view_module_version": "1.5.0",
            "_view_name": "ButtonView",
            "button_style": "",
            "description": "A) A list of numbers in the specified range",
            "disabled": false,
            "icon": "",
            "layout": "IPY_MODEL_6e2a19e4dadb437484672ea8c2280834",
            "style": "IPY_MODEL_6f4a30b3cf224a0dbe00e6de78193d64",
            "tooltip": ""
          }
        },
        "b268d5ce711d4effa203ebf1161e643a": {
          "model_module": "@jupyter-widgets/controls",
          "model_module_version": "1.5.0",
          "model_name": "ButtonStyleModel",
          "state": {
            "_model_module": "@jupyter-widgets/controls",
            "_model_module_version": "1.5.0",
            "_model_name": "ButtonStyleModel",
            "_view_count": null,
            "_view_module": "@jupyter-widgets/base",
            "_view_module_version": "1.2.0",
            "_view_name": "StyleView",
            "button_color": null,
            "font_weight": ""
          }
        },
        "b2df4904d9fd40a1af9b274ff04148fd": {
          "model_module": "@jupyter-widgets/controls",
          "model_module_version": "1.5.0",
          "model_name": "ButtonStyleModel",
          "state": {
            "_model_module": "@jupyter-widgets/controls",
            "_model_module_version": "1.5.0",
            "_model_name": "ButtonStyleModel",
            "_view_count": null,
            "_view_module": "@jupyter-widgets/base",
            "_view_module_version": "1.2.0",
            "_view_name": "StyleView",
            "button_color": null,
            "font_weight": ""
          }
        },
        "edb867f06ad241fbb0b857b75a09f10b": {
          "model_module": "@jupyter-widgets/base",
          "model_module_version": "1.2.0",
          "model_name": "LayoutModel",
          "state": {
            "_model_module": "@jupyter-widgets/base",
            "_model_module_version": "1.2.0",
            "_model_name": "LayoutModel",
            "_view_count": null,
            "_view_module": "@jupyter-widgets/base",
            "_view_module_version": "1.2.0",
            "_view_name": "LayoutView",
            "align_content": null,
            "align_items": null,
            "align_self": null,
            "border": null,
            "bottom": null,
            "display": null,
            "flex": null,
            "flex_flow": null,
            "grid_area": null,
            "grid_auto_columns": null,
            "grid_auto_flow": null,
            "grid_auto_rows": null,
            "grid_column": null,
            "grid_gap": null,
            "grid_row": null,
            "grid_template_areas": null,
            "grid_template_columns": null,
            "grid_template_rows": null,
            "height": null,
            "justify_content": null,
            "justify_items": null,
            "left": null,
            "margin": null,
            "max_height": null,
            "max_width": null,
            "min_height": null,
            "min_width": null,
            "object_fit": null,
            "object_position": null,
            "order": null,
            "overflow": null,
            "overflow_x": null,
            "overflow_y": null,
            "padding": null,
            "right": null,
            "top": null,
            "visibility": null,
            "width": null
          }
        }
      }
    }
  },
  "nbformat": 4,
  "nbformat_minor": 0
}
