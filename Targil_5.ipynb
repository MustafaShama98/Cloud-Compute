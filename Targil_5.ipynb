{
  "nbformat": 4,
  "nbformat_minor": 0,
  "metadata": {
    "colab": {
      "provenance": [],
      "authorship_tag": "ABX9TyOEJCJsAjgkVKnuio1k4jDM",
      "include_colab_link": true
    },
    "kernelspec": {
      "name": "python3",
      "display_name": "Python 3"
    },
    "language_info": {
      "name": "python"
    }
  },
  "cells": [
    {
      "cell_type": "markdown",
      "metadata": {
        "id": "view-in-github",
        "colab_type": "text"
      },
      "source": [
        "<a href=\"https://colab.research.google.com/github/MustafaShama98/Cloud-Compute/blob/main/Targil_5.ipynb\" target=\"_parent\"><img src=\"https://colab.research.google.com/assets/colab-badge.svg\" alt=\"Open In Colab\"/></a>"
      ]
    },
    {
      "cell_type": "code",
      "source": [
        "from google.colab import drive\n",
        "drive.mount('/content/drive')"
      ],
      "metadata": {
        "colab": {
          "base_uri": "https://localhost:8080/"
        },
        "id": "cKuflHLNHfS-",
        "outputId": "f9b9daa1-89b8-4b0c-dd50-1c88d10b886c"
      },
      "execution_count": null,
      "outputs": [
        {
          "output_type": "stream",
          "name": "stdout",
          "text": [
            "Mounted at /content/drive\n"
          ]
        }
      ]
    },
    {
      "cell_type": "code",
      "source": [
        "!ls \"/content/drive/My Drive/Colab Notebooks\""
      ],
      "metadata": {
        "id": "W22N7BO-s7AN",
        "outputId": "73e8b2f2-c7d6-4d70-ff70-bbf6f7019758",
        "colab": {
          "base_uri": "https://localhost:8080/"
        }
      },
      "execution_count": null,
      "outputs": [
        {
          "output_type": "stream",
          "name": "stdout",
          "text": [
            " creds.json\t  students.json   Targil-1.ipynb   targil-4.ipynb    Untitled0.ipynb\n",
            " questions.json   students.txt\t  targil-2.ipynb  'Targil 5.ipynb'   Untitled1.ipynb\n"
          ]
        }
      ]
    },
    {
      "cell_type": "code",
      "source": [
        "# Install the Firebase library\n",
        "!pip install firebase-admin\n",
        "# Install required libraries\n",
        "!pip install python-firebase\n",
        "!pip install pandas\n",
        "!pip install matplotlib"
      ],
      "metadata": {
        "colab": {
          "base_uri": "https://localhost:8080/"
        },
        "id": "X7v0ySRk3Jbo",
        "outputId": "f1f8371f-0a55-4942-9b5f-3737e51294fb"
      },
      "execution_count": null,
      "outputs": [
        {
          "output_type": "stream",
          "name": "stdout",
          "text": [
            "Requirement already satisfied: firebase-admin in /usr/local/lib/python3.10/dist-packages (5.3.0)\n",
            "Requirement already satisfied: cachecontrol>=0.12.6 in /usr/local/lib/python3.10/dist-packages (from firebase-admin) (0.14.0)\n",
            "Requirement already satisfied: google-api-python-client>=1.7.8 in /usr/local/lib/python3.10/dist-packages (from firebase-admin) (2.84.0)\n",
            "Requirement already satisfied: google-cloud-storage>=1.37.1 in /usr/local/lib/python3.10/dist-packages (from firebase-admin) (2.8.0)\n",
            "Requirement already satisfied: google-api-core[grpc]<3.0.0dev,>=1.22.1 in /usr/local/lib/python3.10/dist-packages (from firebase-admin) (2.11.1)\n",
            "Requirement already satisfied: google-cloud-firestore>=2.1.0 in /usr/local/lib/python3.10/dist-packages (from firebase-admin) (2.11.1)\n",
            "Requirement already satisfied: requests>=2.16.0 in /usr/local/lib/python3.10/dist-packages (from cachecontrol>=0.12.6->firebase-admin) (2.31.0)\n",
            "Requirement already satisfied: msgpack<2.0.0,>=0.5.2 in /usr/local/lib/python3.10/dist-packages (from cachecontrol>=0.12.6->firebase-admin) (1.0.7)\n",
            "Requirement already satisfied: googleapis-common-protos<2.0.dev0,>=1.56.2 in /usr/local/lib/python3.10/dist-packages (from google-api-core[grpc]<3.0.0dev,>=1.22.1->firebase-admin) (1.62.0)\n",
            "Requirement already satisfied: protobuf!=3.20.0,!=3.20.1,!=4.21.0,!=4.21.1,!=4.21.2,!=4.21.3,!=4.21.4,!=4.21.5,<5.0.0.dev0,>=3.19.5 in /usr/local/lib/python3.10/dist-packages (from google-api-core[grpc]<3.0.0dev,>=1.22.1->firebase-admin) (3.20.3)\n",
            "Requirement already satisfied: google-auth<3.0.dev0,>=2.14.1 in /usr/local/lib/python3.10/dist-packages (from google-api-core[grpc]<3.0.0dev,>=1.22.1->firebase-admin) (2.27.0)\n",
            "Requirement already satisfied: grpcio<2.0dev,>=1.33.2 in /usr/local/lib/python3.10/dist-packages (from google-api-core[grpc]<3.0.0dev,>=1.22.1->firebase-admin) (1.60.1)\n",
            "Requirement already satisfied: grpcio-status<2.0.dev0,>=1.33.2 in /usr/local/lib/python3.10/dist-packages (from google-api-core[grpc]<3.0.0dev,>=1.22.1->firebase-admin) (1.48.2)\n",
            "Requirement already satisfied: httplib2<1dev,>=0.15.0 in /usr/local/lib/python3.10/dist-packages (from google-api-python-client>=1.7.8->firebase-admin) (0.22.0)\n",
            "Requirement already satisfied: google-auth-httplib2>=0.1.0 in /usr/local/lib/python3.10/dist-packages (from google-api-python-client>=1.7.8->firebase-admin) (0.1.1)\n",
            "Requirement already satisfied: uritemplate<5,>=3.0.1 in /usr/local/lib/python3.10/dist-packages (from google-api-python-client>=1.7.8->firebase-admin) (4.1.1)\n",
            "Requirement already satisfied: google-cloud-core<3.0.0dev,>=1.4.1 in /usr/local/lib/python3.10/dist-packages (from google-cloud-firestore>=2.1.0->firebase-admin) (2.3.3)\n",
            "Requirement already satisfied: proto-plus<2.0.0dev,>=1.22.0 in /usr/local/lib/python3.10/dist-packages (from google-cloud-firestore>=2.1.0->firebase-admin) (1.23.0)\n",
            "Requirement already satisfied: google-resumable-media>=2.3.2 in /usr/local/lib/python3.10/dist-packages (from google-cloud-storage>=1.37.1->firebase-admin) (2.7.0)\n",
            "Requirement already satisfied: cachetools<6.0,>=2.0.0 in /usr/local/lib/python3.10/dist-packages (from google-auth<3.0.dev0,>=2.14.1->google-api-core[grpc]<3.0.0dev,>=1.22.1->firebase-admin) (5.3.2)\n",
            "Requirement already satisfied: pyasn1-modules>=0.2.1 in /usr/local/lib/python3.10/dist-packages (from google-auth<3.0.dev0,>=2.14.1->google-api-core[grpc]<3.0.0dev,>=1.22.1->firebase-admin) (0.3.0)\n",
            "Requirement already satisfied: rsa<5,>=3.1.4 in /usr/local/lib/python3.10/dist-packages (from google-auth<3.0.dev0,>=2.14.1->google-api-core[grpc]<3.0.0dev,>=1.22.1->firebase-admin) (4.9)\n",
            "Requirement already satisfied: google-crc32c<2.0dev,>=1.0 in /usr/local/lib/python3.10/dist-packages (from google-resumable-media>=2.3.2->google-cloud-storage>=1.37.1->firebase-admin) (1.5.0)\n",
            "Requirement already satisfied: pyparsing!=3.0.0,!=3.0.1,!=3.0.2,!=3.0.3,<4,>=2.4.2 in /usr/local/lib/python3.10/dist-packages (from httplib2<1dev,>=0.15.0->google-api-python-client>=1.7.8->firebase-admin) (3.1.1)\n",
            "Requirement already satisfied: charset-normalizer<4,>=2 in /usr/local/lib/python3.10/dist-packages (from requests>=2.16.0->cachecontrol>=0.12.6->firebase-admin) (3.3.2)\n",
            "Requirement already satisfied: idna<4,>=2.5 in /usr/local/lib/python3.10/dist-packages (from requests>=2.16.0->cachecontrol>=0.12.6->firebase-admin) (3.6)\n",
            "Requirement already satisfied: urllib3<3,>=1.21.1 in /usr/local/lib/python3.10/dist-packages (from requests>=2.16.0->cachecontrol>=0.12.6->firebase-admin) (2.0.7)\n",
            "Requirement already satisfied: certifi>=2017.4.17 in /usr/local/lib/python3.10/dist-packages (from requests>=2.16.0->cachecontrol>=0.12.6->firebase-admin) (2024.2.2)\n",
            "Requirement already satisfied: pyasn1<0.6.0,>=0.4.6 in /usr/local/lib/python3.10/dist-packages (from pyasn1-modules>=0.2.1->google-auth<3.0.dev0,>=2.14.1->google-api-core[grpc]<3.0.0dev,>=1.22.1->firebase-admin) (0.5.1)\n",
            "Collecting python-firebase\n",
            "  Downloading python-firebase-1.2.tar.gz (10 kB)\n",
            "  Preparing metadata (setup.py) ... \u001b[?25l\u001b[?25hdone\n",
            "Requirement already satisfied: requests>=1.1.0 in /usr/local/lib/python3.10/dist-packages (from python-firebase) (2.31.0)\n",
            "Requirement already satisfied: charset-normalizer<4,>=2 in /usr/local/lib/python3.10/dist-packages (from requests>=1.1.0->python-firebase) (3.3.2)\n",
            "Requirement already satisfied: idna<4,>=2.5 in /usr/local/lib/python3.10/dist-packages (from requests>=1.1.0->python-firebase) (3.6)\n",
            "Requirement already satisfied: urllib3<3,>=1.21.1 in /usr/local/lib/python3.10/dist-packages (from requests>=1.1.0->python-firebase) (2.0.7)\n",
            "Requirement already satisfied: certifi>=2017.4.17 in /usr/local/lib/python3.10/dist-packages (from requests>=1.1.0->python-firebase) (2024.2.2)\n",
            "Building wheels for collected packages: python-firebase\n",
            "  Building wheel for python-firebase (setup.py) ... \u001b[?25l\u001b[?25hdone\n",
            "  Created wheel for python-firebase: filename=python_firebase-1.2-py3-none-any.whl size=11514 sha256=c496eb83f992f82869f52eca7e54c2b8967b809f7b3bf6c318f3fbea5fa9144e\n",
            "  Stored in directory: /root/.cache/pip/wheels/db/18/48/d842a2d76125ee48cc5e3f3afa3481412099fe5aa7e5c6c8f3\n",
            "Successfully built python-firebase\n",
            "Installing collected packages: python-firebase\n",
            "Successfully installed python-firebase-1.2\n",
            "Requirement already satisfied: pandas in /usr/local/lib/python3.10/dist-packages (1.5.3)\n",
            "Requirement already satisfied: python-dateutil>=2.8.1 in /usr/local/lib/python3.10/dist-packages (from pandas) (2.8.2)\n",
            "Requirement already satisfied: pytz>=2020.1 in /usr/local/lib/python3.10/dist-packages (from pandas) (2023.4)\n",
            "Requirement already satisfied: numpy>=1.21.0 in /usr/local/lib/python3.10/dist-packages (from pandas) (1.25.2)\n",
            "Requirement already satisfied: six>=1.5 in /usr/local/lib/python3.10/dist-packages (from python-dateutil>=2.8.1->pandas) (1.16.0)\n",
            "Requirement already satisfied: matplotlib in /usr/local/lib/python3.10/dist-packages (3.7.1)\n",
            "Requirement already satisfied: contourpy>=1.0.1 in /usr/local/lib/python3.10/dist-packages (from matplotlib) (1.2.0)\n",
            "Requirement already satisfied: cycler>=0.10 in /usr/local/lib/python3.10/dist-packages (from matplotlib) (0.12.1)\n",
            "Requirement already satisfied: fonttools>=4.22.0 in /usr/local/lib/python3.10/dist-packages (from matplotlib) (4.49.0)\n",
            "Requirement already satisfied: kiwisolver>=1.0.1 in /usr/local/lib/python3.10/dist-packages (from matplotlib) (1.4.5)\n",
            "Requirement already satisfied: numpy>=1.20 in /usr/local/lib/python3.10/dist-packages (from matplotlib) (1.25.2)\n",
            "Requirement already satisfied: packaging>=20.0 in /usr/local/lib/python3.10/dist-packages (from matplotlib) (23.2)\n",
            "Requirement already satisfied: pillow>=6.2.0 in /usr/local/lib/python3.10/dist-packages (from matplotlib) (9.4.0)\n",
            "Requirement already satisfied: pyparsing>=2.3.1 in /usr/local/lib/python3.10/dist-packages (from matplotlib) (3.1.1)\n",
            "Requirement already satisfied: python-dateutil>=2.7 in /usr/local/lib/python3.10/dist-packages (from matplotlib) (2.8.2)\n",
            "Requirement already satisfied: six>=1.5 in /usr/local/lib/python3.10/dist-packages (from python-dateutil>=2.7->matplotlib) (1.16.0)\n"
          ]
        }
      ]
    },
    {
      "cell_type": "code",
      "execution_count": 37,
      "metadata": {
        "colab": {
          "base_uri": "https://localhost:8080/"
        },
        "id": "77XQM2L13Bld",
        "outputId": "5d7b9b4e-8839-47a5-c1b8-14febc868137"
      },
      "outputs": [
        {
          "output_type": "stream",
          "name": "stdout",
          "text": [
            "Index saved to Firestore successfully.\n"
          ]
        }
      ],
      "source": [
        "import firebase_admin\n",
        "from firebase_admin import credentials, db\n",
        "import pandas as pd\n",
        "import matplotlib.pyplot as plt\n",
        "import json\n",
        "\n",
        "# Load Firebase credentials from JSON file\n",
        "cred_path = '/content/drive/My Drive/Colab Notebooks/creds.json'\n",
        "\n",
        "\n",
        "# apps = firebase_admin.get_app(name='[DEFAULT]')\n",
        "# # Check if there are any initialized apps\n",
        "# if apps:\n",
        "#     # Delete the first initialized app (assuming you have only one)\n",
        "#     firebase_admin.delete_app(apps)\n",
        "#     print(\"Firebase app deleted successfully\")\n",
        "# else:\n",
        "#     print(\"No Firebase apps to delete\")\n",
        "\n",
        "if not firebase_admin._apps:\n",
        "    cred = credentials.Certificate(cred_path)\n",
        "    firebase_admin.initialize_app(cred,{'databaseURL':'https://cloudcomputing-2bbc8-default-rtdb.europe-west1.firebasedatabase.app/'})\n",
        "\n",
        "\n",
        "# Create an index and save it in Firestore\n",
        "index_data = {\n",
        "    'Virtualization': {\n",
        "        'Link': 'https://www.vmware.com/il/solutions/virtualization.html',\n",
        "        'Occurrences': 30\n",
        "    },\n",
        "    'vSphere': {\n",
        "        'Link': 'https://www.vmware.com/il/products/vsphere.html',\n",
        "        'Occurrences': 16\n",
        "    },\n",
        "    'ESXi': {\n",
        "        'Link': 'https://www.vmware.com/il/products/esxi-and-esx.html',\n",
        "        'Occurrences': 11\n",
        "    },\n",
        "    'Horizon': {\n",
        "        'Link': 'https://customerconnect.vmware.com/en/downloads/info/slug/desktop_end_user_computing/vmware_horizon_clients/horizon_8',\n",
        "        'Occurrences': 8\n",
        "    },\n",
        "    'vCenter': {\n",
        "        'Link': 'https://www.vmware.com/il/products/vcenter.html',\n",
        "        'Occurrences': 32\n",
        "    },\n",
        "    'NSX': {\n",
        "        'Link': 'https://www.vmware.com/il/products/nsx.html',\n",
        "        'Occurrences': 24\n",
        "    },\n",
        "    'Cloud Computing': {\n",
        "        'Link': 'https://www.vmware.com/content/vmware/vmware-published-sites/us/solutions/cloud-computing.html',\n",
        "        'Occurrences': 4\n",
        "    },\n",
        "    'Workstation': {\n",
        "        'Link': 'https://www.vmware.com/il/products/workstation-pro.html',\n",
        "        'Occurrences': 21\n",
        "    },\n",
        "    'Hybrid Cloud': {\n",
        "        'Link': 'https://www.vmware.com/il/cloud-solutions/hybrid-cloud.html',\n",
        "        'Occurrences': 28\n",
        "    },\n",
        "    'Security': {\n",
        "        'Link': 'https://www.vmware.com/il/security.html',\n",
        "        'Occurrences': 33\n",
        "    }\n",
        "}\n",
        "# # Reference to the database\n",
        "ref = db.reference('/vmware_index')\n",
        "\n",
        "# Set the index data\n",
        "ref.set(index_data)\n",
        "\n",
        "print(\"Index saved to Firestore successfully.\")\n"
      ]
    },
    {
      "cell_type": "code",
      "source": [
        "import firebase_admin\n",
        "from firebase_admin import db, credentials\n",
        "import pandas as pd\n",
        "import matplotlib.pyplot as plt\n",
        "import requests\n",
        "\n",
        "# Check if the app is already initialized\n",
        "if not firebase_admin._apps:\n",
        "    # Load Firebase credentials from JSON file\n",
        "    cred_path = '/content/drive/My Drive/Colab Notebooks/creds.json'\n",
        "    cred = credentials.Certificate(cred_path)\n",
        "    firebase_admin.initialize_app(cred)\n",
        "\n",
        "# Reference to the database\n",
        "ref = db.reference('/vmware_index')\n",
        "\n",
        "# Retrieve the index data from Firebase\n",
        "index_data = ref.get()\n",
        "\n",
        "\n",
        "# Count occurrences for each word in index_data\n",
        "occurrences_dict = {}\n",
        "for word, data in index_data.items():\n",
        "    link = data['Link']\n",
        "    occurrences = data['Occurrences']\n",
        "    occurrences_dict[word] = occurrences\n",
        "\n",
        "# Create a DataFrame from the index data\n",
        "df = pd.DataFrame(list(index_data.items()), columns=['Word', 'Data'])\n",
        "\n",
        "\n",
        "\n",
        "# Update the DataFrame with the occurrences\n",
        "df['Occurrences'] = df['Word'].map(occurrences_dict)\n",
        "\n",
        "# Display the updated DataFrame with full link URLs and Occurrences\n",
        "print(\"\\nUpdated DataFrame with Occurrences:\")\n",
        "print(df)\n",
        "\n",
        "# Plot a chart representing the occurrences of each word\n",
        "plt.figure(figsize=(10, 6))\n",
        "plt.bar(df['Word'], df['Occurrences'], color='lightblue')\n",
        "plt.title('Occurrences of Each Word on the Website')\n",
        "plt.xlabel('Word')\n",
        "plt.ylabel('Occurrences')\n",
        "plt.show()\n"
      ],
      "metadata": {
        "colab": {
          "base_uri": "https://localhost:8080/",
          "height": 1000
        },
        "id": "LbxxvJlu6r7_",
        "outputId": "05e574a7-1740-4d3b-b84c-2aefa2cb2a3e"
      },
      "execution_count": 41,
      "outputs": [
        {
          "output_type": "stream",
          "name": "stdout",
          "text": [
            "\n",
            "Updated DataFrame with Occurrences:\n",
            "              Word  \\\n",
            "0  Cloud Computing   \n",
            "1             ESXi   \n",
            "2          Horizon   \n",
            "3     Hybrid Cloud   \n",
            "4              NSX   \n",
            "5         Security   \n",
            "6   Virtualization   \n",
            "7      Workstation   \n",
            "8          vCenter   \n",
            "9          vSphere   \n",
            "\n",
            "                                                                                                                                                  Data  \\\n",
            "0                         {'Link': 'https://www.vmware.com/content/vmware/vmware-published-sites/us/solutions/cloud-computing.html', 'Occurrences': 4}   \n",
            "1                                                                  {'Link': 'https://www.vmware.com/il/products/esxi-and-esx.html', 'Occurrences': 11}   \n",
            "2  {'Link': 'https://customerconnect.vmware.com/en/downloads/info/slug/desktop_end_user_computing/vmware_horizon_clients/horizon_8', 'Occurrences': 8}   \n",
            "3                                                           {'Link': 'https://www.vmware.com/il/cloud-solutions/hybrid-cloud.html', 'Occurrences': 28}   \n",
            "4                                                                           {'Link': 'https://www.vmware.com/il/products/nsx.html', 'Occurrences': 24}   \n",
            "5                                                                               {'Link': 'https://www.vmware.com/il/security.html', 'Occurrences': 33}   \n",
            "6                                                               {'Link': 'https://www.vmware.com/il/solutions/virtualization.html', 'Occurrences': 30}   \n",
            "7                                                               {'Link': 'https://www.vmware.com/il/products/workstation-pro.html', 'Occurrences': 21}   \n",
            "8                                                                       {'Link': 'https://www.vmware.com/il/products/vcenter.html', 'Occurrences': 32}   \n",
            "9                                                                       {'Link': 'https://www.vmware.com/il/products/vsphere.html', 'Occurrences': 16}   \n",
            "\n",
            "   Occurrences  \n",
            "0            4  \n",
            "1           11  \n",
            "2            8  \n",
            "3           28  \n",
            "4           24  \n",
            "5           33  \n",
            "6           30  \n",
            "7           21  \n",
            "8           32  \n",
            "9           16  \n"
          ]
        },
        {
          "output_type": "display_data",
          "data": {
            "text/plain": [
              "<Figure size 1000x600 with 1 Axes>"
            ],
            "image/png": "[encoded data removed]"
          },
          "metadata": {}
        }
      ]
    }
  ]
}