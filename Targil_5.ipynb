{
  "nbformat": 4,
  "nbformat_minor": 0,
  "metadata": {
    "colab": {
      "provenance": [],
      "authorship_tag": "ABX9TyMlpatPhr5oaSSzNPyli6Q0",
      "include_colab_link": true
    },
    "kernelspec": {
      "name": "python3",
      "display_name": "Python 3"
    },
    "language_info": {
      "name": "python"
    }
  },
  "cells": [
    {
      "cell_type": "markdown",
      "metadata": {
        "id": "view-in-github",
        "colab_type": "text"
      },
      "source": [
        "<a href=\"https://colab.research.google.com/github/MustafaShama98/Cloud-Compute/blob/main/Targil_5.ipynb\" target=\"_parent\"><img src=\"https://colab.research.google.com/assets/colab-badge.svg\" alt=\"Open In Colab\"/></a>"
      ]
    },
    {
      "cell_type": "code",
      "source": [
        "from google.colab import drive\n",
        "drive.mount('/content/drive')"
      ],
      "metadata": {
        "colab": {
          "base_uri": "https://localhost:8080/"
        },
        "id": "cKuflHLNHfS-",
        "outputId": "10a15ff2-4986-4c00-d7b3-8b83f2ab9a6d"
      },
      "execution_count": 10,
      "outputs": [
        {
          "output_type": "stream",
          "name": "stdout",
          "text": [
            "Mounted at /content/drive\n"
          ]
        }
      ]
    },
    {
      "cell_type": "code",
      "source": [
        "# Install the Firebase library\n",
        "!pip install firebase-admin\n",
        "# Install required libraries\n",
        "!pip install python-firebase\n",
        "!pip install pandas\n",
        "!pip install matplotlib"
      ],
      "metadata": {
        "colab": {
          "base_uri": "https://localhost:8080/"
        },
        "id": "X7v0ySRk3Jbo",
        "outputId": "2f17fd8d-4439-4193-e6cc-6054b7674cc3"
      },
      "execution_count": 14,
      "outputs": [
        {
          "output_type": "stream",
          "name": "stdout",
          "text": [
            "Requirement already satisfied: firebase-admin in /usr/local/lib/python3.10/dist-packages (5.3.0)\n",
            "Requirement already satisfied: cachecontrol>=0.12.6 in /usr/local/lib/python3.10/dist-packages (from firebase-admin) (0.14.0)\n",
            "Requirement already satisfied: google-api-python-client>=1.7.8 in /usr/local/lib/python3.10/dist-packages (from firebase-admin) (2.84.0)\n",
            "Requirement already satisfied: google-cloud-storage>=1.37.1 in /usr/local/lib/python3.10/dist-packages (from firebase-admin) (2.8.0)\n",
            "Requirement already satisfied: google-api-core[grpc]<3.0.0dev,>=1.22.1 in /usr/local/lib/python3.10/dist-packages (from firebase-admin) (2.11.1)\n",
            "Requirement already satisfied: google-cloud-firestore>=2.1.0 in /usr/local/lib/python3.10/dist-packages (from firebase-admin) (2.11.1)\n",
            "Requirement already satisfied: requests>=2.16.0 in /usr/local/lib/python3.10/dist-packages (from cachecontrol>=0.12.6->firebase-admin) (2.31.0)\n",
            "Requirement already satisfied: msgpack<2.0.0,>=0.5.2 in /usr/local/lib/python3.10/dist-packages (from cachecontrol>=0.12.6->firebase-admin) (1.0.7)\n",
            "Requirement already satisfied: googleapis-common-protos<2.0.dev0,>=1.56.2 in /usr/local/lib/python3.10/dist-packages (from google-api-core[grpc]<3.0.0dev,>=1.22.1->firebase-admin) (1.62.0)\n",
            "Requirement already satisfied: protobuf!=3.20.0,!=3.20.1,!=4.21.0,!=4.21.1,!=4.21.2,!=4.21.3,!=4.21.4,!=4.21.5,<5.0.0.dev0,>=3.19.5 in /usr/local/lib/python3.10/dist-packages (from google-api-core[grpc]<3.0.0dev,>=1.22.1->firebase-admin) (3.20.3)\n",
            "Requirement already satisfied: google-auth<3.0.dev0,>=2.14.1 in /usr/local/lib/python3.10/dist-packages (from google-api-core[grpc]<3.0.0dev,>=1.22.1->firebase-admin) (2.27.0)\n",
            "Requirement already satisfied: grpcio<2.0dev,>=1.33.2 in /usr/local/lib/python3.10/dist-packages (from google-api-core[grpc]<3.0.0dev,>=1.22.1->firebase-admin) (1.60.1)\n",
            "Requirement already satisfied: grpcio-status<2.0.dev0,>=1.33.2 in /usr/local/lib/python3.10/dist-packages (from google-api-core[grpc]<3.0.0dev,>=1.22.1->firebase-admin) (1.48.2)\n",
            "Requirement already satisfied: httplib2<1dev,>=0.15.0 in /usr/local/lib/python3.10/dist-packages (from google-api-python-client>=1.7.8->firebase-admin) (0.22.0)\n",
            "Requirement already satisfied: google-auth-httplib2>=0.1.0 in /usr/local/lib/python3.10/dist-packages (from google-api-python-client>=1.7.8->firebase-admin) (0.1.1)\n",
            "Requirement already satisfied: uritemplate<5,>=3.0.1 in /usr/local/lib/python3.10/dist-packages (from google-api-python-client>=1.7.8->firebase-admin) (4.1.1)\n",
            "Requirement already satisfied: google-cloud-core<3.0.0dev,>=1.4.1 in /usr/local/lib/python3.10/dist-packages (from google-cloud-firestore>=2.1.0->firebase-admin) (2.3.3)\n",
            "Requirement already satisfied: proto-plus<2.0.0dev,>=1.22.0 in /usr/local/lib/python3.10/dist-packages (from google-cloud-firestore>=2.1.0->firebase-admin) (1.23.0)\n",
            "Requirement already satisfied: google-resumable-media>=2.3.2 in /usr/local/lib/python3.10/dist-packages (from google-cloud-storage>=1.37.1->firebase-admin) (2.7.0)\n",
            "Requirement already satisfied: cachetools<6.0,>=2.0.0 in /usr/local/lib/python3.10/dist-packages (from google-auth<3.0.dev0,>=2.14.1->google-api-core[grpc]<3.0.0dev,>=1.22.1->firebase-admin) (5.3.2)\n",
            "Requirement already satisfied: pyasn1-modules>=0.2.1 in /usr/local/lib/python3.10/dist-packages (from google-auth<3.0.dev0,>=2.14.1->google-api-core[grpc]<3.0.0dev,>=1.22.1->firebase-admin) (0.3.0)\n",
            "Requirement already satisfied: rsa<5,>=3.1.4 in /usr/local/lib/python3.10/dist-packages (from google-auth<3.0.dev0,>=2.14.1->google-api-core[grpc]<3.0.0dev,>=1.22.1->firebase-admin) (4.9)\n",
            "Requirement already satisfied: google-crc32c<2.0dev,>=1.0 in /usr/local/lib/python3.10/dist-packages (from google-resumable-media>=2.3.2->google-cloud-storage>=1.37.1->firebase-admin) (1.5.0)\n",
            "Requirement already satisfied: pyparsing!=3.0.0,!=3.0.1,!=3.0.2,!=3.0.3,<4,>=2.4.2 in /usr/local/lib/python3.10/dist-packages (from httplib2<1dev,>=0.15.0->google-api-python-client>=1.7.8->firebase-admin) (3.1.1)\n",
            "Requirement already satisfied: charset-normalizer<4,>=2 in /usr/local/lib/python3.10/dist-packages (from requests>=2.16.0->cachecontrol>=0.12.6->firebase-admin) (3.3.2)\n",
            "Requirement already satisfied: idna<4,>=2.5 in /usr/local/lib/python3.10/dist-packages (from requests>=2.16.0->cachecontrol>=0.12.6->firebase-admin) (3.6)\n",
            "Requirement already satisfied: urllib3<3,>=1.21.1 in /usr/local/lib/python3.10/dist-packages (from requests>=2.16.0->cachecontrol>=0.12.6->firebase-admin) (2.0.7)\n",
            "Requirement already satisfied: certifi>=2017.4.17 in /usr/local/lib/python3.10/dist-packages (from requests>=2.16.0->cachecontrol>=0.12.6->firebase-admin) (2024.2.2)\n",
            "Requirement already satisfied: pyasn1<0.6.0,>=0.4.6 in /usr/local/lib/python3.10/dist-packages (from pyasn1-modules>=0.2.1->google-auth<3.0.dev0,>=2.14.1->google-api-core[grpc]<3.0.0dev,>=1.22.1->firebase-admin) (0.5.1)\n",
            "Requirement already satisfied: python-firebase in /usr/local/lib/python3.10/dist-packages (1.2)\n",
            "Requirement already satisfied: requests>=1.1.0 in /usr/local/lib/python3.10/dist-packages (from python-firebase) (2.31.0)\n",
            "Requirement already satisfied: charset-normalizer<4,>=2 in /usr/local/lib/python3.10/dist-packages (from requests>=1.1.0->python-firebase) (3.3.2)\n",
            "Requirement already satisfied: idna<4,>=2.5 in /usr/local/lib/python3.10/dist-packages (from requests>=1.1.0->python-firebase) (3.6)\n",
            "Requirement already satisfied: urllib3<3,>=1.21.1 in /usr/local/lib/python3.10/dist-packages (from requests>=1.1.0->python-firebase) (2.0.7)\n",
            "Requirement already satisfied: certifi>=2017.4.17 in /usr/local/lib/python3.10/dist-packages (from requests>=1.1.0->python-firebase) (2024.2.2)\n",
            "Requirement already satisfied: pandas in /usr/local/lib/python3.10/dist-packages (1.5.3)\n",
            "Requirement already satisfied: python-dateutil>=2.8.1 in /usr/local/lib/python3.10/dist-packages (from pandas) (2.8.2)\n",
            "Requirement already satisfied: pytz>=2020.1 in /usr/local/lib/python3.10/dist-packages (from pandas) (2023.4)\n",
            "Requirement already satisfied: numpy>=1.21.0 in /usr/local/lib/python3.10/dist-packages (from pandas) (1.25.2)\n",
            "Requirement already satisfied: six>=1.5 in /usr/local/lib/python3.10/dist-packages (from python-dateutil>=2.8.1->pandas) (1.16.0)\n",
            "Requirement already satisfied: matplotlib in /usr/local/lib/python3.10/dist-packages (3.7.1)\n",
            "Requirement already satisfied: contourpy>=1.0.1 in /usr/local/lib/python3.10/dist-packages (from matplotlib) (1.2.0)\n",
            "Requirement already satisfied: cycler>=0.10 in /usr/local/lib/python3.10/dist-packages (from matplotlib) (0.12.1)\n",
            "Requirement already satisfied: fonttools>=4.22.0 in /usr/local/lib/python3.10/dist-packages (from matplotlib) (4.49.0)\n",
            "Requirement already satisfied: kiwisolver>=1.0.1 in /usr/local/lib/python3.10/dist-packages (from matplotlib) (1.4.5)\n",
            "Requirement already satisfied: numpy>=1.20 in /usr/local/lib/python3.10/dist-packages (from matplotlib) (1.25.2)\n",
            "Requirement already satisfied: packaging>=20.0 in /usr/local/lib/python3.10/dist-packages (from matplotlib) (23.2)\n",
            "Requirement already satisfied: pillow>=6.2.0 in /usr/local/lib/python3.10/dist-packages (from matplotlib) (9.4.0)\n",
            "Requirement already satisfied: pyparsing>=2.3.1 in /usr/local/lib/python3.10/dist-packages (from matplotlib) (3.1.1)\n",
            "Requirement already satisfied: python-dateutil>=2.7 in /usr/local/lib/python3.10/dist-packages (from matplotlib) (2.8.2)\n",
            "Requirement already satisfied: six>=1.5 in /usr/local/lib/python3.10/dist-packages (from python-dateutil>=2.7->matplotlib) (1.16.0)\n"
          ]
        }
      ]
    },
    {
      "cell_type": "code",
      "execution_count": 25,
      "metadata": {
        "colab": {
          "base_uri": "https://localhost:8080/"
        },
        "id": "77XQM2L13Bld",
        "outputId": "151577f8-b144-4271-f7a3-2e73d850ff18"
      },
      "outputs": [
        {
          "output_type": "stream",
          "name": "stdout",
          "text": [
            "Index saved to Firestore successfully.\n"
          ]
        }
      ],
      "source": [
        "import firebase_admin\n",
        "from firebase_admin import credentials, db\n",
        "import pandas as pd\n",
        "import matplotlib.pyplot as plt\n",
        "import json\n",
        "\n",
        "# Load Firebase credentials from JSON file\n",
        "cred_path = '/content/drive/My Drive/Colab Notebooks/creds.json'\n",
        "\n",
        "# Check if the app is already initialized\n",
        "if not firebase_admin._apps:\n",
        "    cred = credentials.Certificate(cred_path)\n",
        "    firebase_admin.initialize_app(cred)\n",
        "\n",
        "# Create an index and save it in Firestore\n",
        "index_data = {\n",
        "    'Virtualization': 'https://www.vmware.com/il/solutions/virtualization.html',\n",
        "    'vSphere': 'https://www.vmware.com/il/products/vsphere.html',\n",
        "    'ESXi': 'https://www.vmware.com/il/products/esxi-and-esx.html',\n",
        "    'Horizon': 'https://customerconnect.vmware.com/en/downloads/info/slug/desktop_end_user_computing/vmware_horizon_clients/horizon_8',\n",
        "    'vCenter': 'https://www.vmware.com/il/products/vcenter.html',\n",
        "    'NSX': 'https://www.vmware.com/il/products/nsx.html',\n",
        "    'Cloud Computing': 'https://www.vmware.com/content/vmware/vmware-published-sites/us/solutions/cloud-computing.html',\n",
        "    'Workstation': 'https://www.vmware.com/il/products/workstation-pro.html',\n",
        "    'Hybrid Cloud': 'https://www.vmware.com/il/cloud-solutions/hybrid-cloud.html',\n",
        "    'Security': 'https://www.vmware.com/il/security.html'\n",
        "}\n",
        "\n",
        "# Reference to the database\n",
        "ref = db.reference('/vmware_index')\n",
        "\n",
        "# Set the index data\n",
        "ref.set(index_data)\n",
        "\n",
        "print(\"Index saved to Firestore successfully.\")\n"
      ]
    },
    {
      "cell_type": "code",
      "source": [
        "import firebase_admin\n",
        "from firebase_admin import db, credentials\n",
        "import pandas as pd\n",
        "import matplotlib.pyplot as plt\n",
        "import requests\n",
        "\n",
        "# Set pandas option to display full link URLs\n",
        "pd.set_option('display.max_colwidth', None)\n",
        "\n",
        "# Check if the app is already initialized\n",
        "if not firebase_admin._apps:\n",
        "    # Load Firebase credentials from JSON file\n",
        "    cred_path = '/content/drive/My Drive/Colab Notebooks/creds.json'\n",
        "    cred = credentials.Certificate(cred_path)\n",
        "    firebase_admin.initialize_app(cred)\n",
        "\n",
        "# Reference to the database\n",
        "ref = db.reference('/vmware_index')\n",
        "\n",
        "# Retrieve the index data from Firebase\n",
        "index_data = ref.get()\n",
        "\n",
        "# Function to count occurrences of a word in the content of a webpage\n",
        "def count_word_occurrences(word, link):\n",
        "    try:\n",
        "        # Fetch the content of the webpage\n",
        "        response = requests.get(link)\n",
        "        content = response.text.lower()  # Convert to lowercase for case-insensitive matching\n",
        "\n",
        "        # Count occurrences of the word\n",
        "        occurrences = content.count(word.lower())\n",
        "        return occurrences\n",
        "    except Exception as e:\n",
        "        print(f\"Error counting occurrences for {word}: {str(e)}\")\n",
        "        return 0\n",
        "\n",
        "# Count occurrences for each word in index_data\n",
        "occurrences_dict = {}\n",
        "for word, link in index_data.items():\n",
        "    occurrences = count_word_occurrences(word, link)\n",
        "    occurrences_dict[word] = occurrences\n",
        "\n",
        "# Create a DataFrame from the index data\n",
        "df = pd.DataFrame(list(index_data.items()), columns=['Word', 'Link'])\n",
        "\n",
        "# Display the occurrences for each word\n",
        "for word, occurrences in occurrences_dict.items():\n",
        "    print(f\"{word}: {occurrences} occurrences\")\n",
        "\n",
        "# Update the DataFrame with the occurrences\n",
        "df['Occurrences'] = df['Word'].map(occurrences_dict)\n",
        "\n",
        "# Display the updated DataFrame with full link URLs\n",
        "print(\"\\nUpdated DataFrame with Occurrences:\")\n",
        "print(df)\n",
        "\n",
        "# Plot a chart representing the occurrences of each word\n",
        "plt.figure(figsize=(10, 6))\n",
        "plt.bar(df['Word'], df['Occurrences'], color='lightblue')\n",
        "plt.title('Occurrences of Each Word on the Website')\n",
        "plt.xlabel('Word')\n",
        "plt.ylabel('Occurrences')\n",
        "plt.show()\n"
      ],
      "metadata": {
        "colab": {
          "base_uri": "https://localhost:8080/",
          "height": 1000
        },
        "id": "LbxxvJlu6r7_",
        "outputId": "7272ac6a-6579-423e-fa9f-1a1241475b78"
      },
      "execution_count": 31,
      "outputs": [
        {
          "output_type": "stream",
          "name": "stdout",
          "text": [
            "Cloud Computing: 0 occurrences\n",
            "ESXi: 1 occurrences\n",
            "Horizon: 0 occurrences\n",
            "Hybrid Cloud: 0 occurrences\n",
            "NSX: 1 occurrences\n",
            "Security: 1 occurrences\n",
            "Virtualization: 1 occurrences\n",
            "Workstation: 1 occurrences\n",
            "vCenter: 1 occurrences\n",
            "vSphere: 1 occurrences\n",
            "\n",
            "Updated DataFrame with Occurrences:\n",
            "              Word  \\\n",
            "0  Cloud Computing   \n",
            "1             ESXi   \n",
            "2          Horizon   \n",
            "3     Hybrid Cloud   \n",
            "4              NSX   \n",
            "5         Security   \n",
            "6   Virtualization   \n",
            "7      Workstation   \n",
            "8          vCenter   \n",
            "9          vSphere   \n",
            "\n",
            "                                                                                                                    Link  \\\n",
            "0                         https://www.vmware.com/content/vmware/vmware-published-sites/us/solutions/cloud-computing.html   \n",
            "1                                                                   https://www.vmware.com/il/products/esxi-and-esx.html   \n",
            "2  https://customerconnect.vmware.com/en/downloads/info/slug/desktop_end_user_computing/vmware_horizon_clients/horizon_8   \n",
            "3                                                            https://www.vmware.com/il/cloud-solutions/hybrid-cloud.html   \n",
            "4                                                                            https://www.vmware.com/il/products/nsx.html   \n",
            "5                                                                                https://www.vmware.com/il/security.html   \n",
            "6                                                                https://www.vmware.com/il/solutions/virtualization.html   \n",
            "7                                                                https://www.vmware.com/il/products/workstation-pro.html   \n",
            "8                                                                        https://www.vmware.com/il/products/vcenter.html   \n",
            "9                                                                        https://www.vmware.com/il/products/vsphere.html   \n",
            "\n",
            "   Occurrences  \n",
            "0            0  \n",
            "1            1  \n",
            "2            0  \n",
            "3            0  \n",
            "4            1  \n",
            "5            1  \n",
            "6            1  \n",
            "7            1  \n",
            "8            1  \n",
            "9            1  \n"
          ]
        },
        {
          "output_type": "display_data",
          "data": {
            "text/plain": [
              "<Figure size 1000x600 with 1 Axes>"
            ],
            "image/png": "[encoded data removed]"
          },
          "metadata": {}
        }
      ]
    }
  ]
}